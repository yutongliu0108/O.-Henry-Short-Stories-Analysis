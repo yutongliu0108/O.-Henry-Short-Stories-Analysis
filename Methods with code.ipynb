{
 "cells": [
  {
   "cell_type": "markdown",
   "metadata": {},
   "source": [
    "# Digital Text II Final Project - O. Henry Short Stories Analysis\n",
    "\n",
    "Student Name: Yutong Liu\n",
    "\n",
    "Research Question: Do O. Henry’s characters reflect stereotypes of early 20th-century America?\n",
    "\n",
    "Data source: The ohenry_texts corpus\n",
    "\n",
    "Methods: NER; Word2Vec; LDA\n"
   ]
  },
  {
   "cell_type": "markdown",
   "metadata": {},
   "source": [
    "## Installations"
   ]
  },
  {
   "cell_type": "code",
   "execution_count": 1,
   "metadata": {},
   "outputs": [
    {
     "name": "stdout",
     "output_type": "stream",
     "text": [
      "Requirement already satisfied: gensim in /Library/Frameworks/Python.framework/Versions/3.10/lib/python3.10/site-packages (4.3.3)\n",
      "Requirement already satisfied: numpy<2.0,>=1.18.5 in /Library/Frameworks/Python.framework/Versions/3.10/lib/python3.10/site-packages (from gensim) (1.26.4)\n",
      "Requirement already satisfied: scipy<1.14.0,>=1.7.0 in /Library/Frameworks/Python.framework/Versions/3.10/lib/python3.10/site-packages (from gensim) (1.13.1)\n",
      "Requirement already satisfied: smart-open>=1.8.1 in /Library/Frameworks/Python.framework/Versions/3.10/lib/python3.10/site-packages (from gensim) (7.1.0)\n",
      "Requirement already satisfied: wrapt in /Library/Frameworks/Python.framework/Versions/3.10/lib/python3.10/site-packages (from smart-open>=1.8.1->gensim) (1.17.2)\n",
      "Requirement already satisfied: bertopic in /Library/Frameworks/Python.framework/Versions/3.10/lib/python3.10/site-packages (0.17.0)\n",
      "Requirement already satisfied: hdbscan>=0.8.29 in /Library/Frameworks/Python.framework/Versions/3.10/lib/python3.10/site-packages (from bertopic) (0.8.40)\n",
      "Requirement already satisfied: numpy>=1.20.0 in /Library/Frameworks/Python.framework/Versions/3.10/lib/python3.10/site-packages (from bertopic) (1.26.4)\n",
      "Requirement already satisfied: pandas>=1.1.5 in /Library/Frameworks/Python.framework/Versions/3.10/lib/python3.10/site-packages (from bertopic) (2.2.3)\n",
      "Requirement already satisfied: plotly>=4.7.0 in /Library/Frameworks/Python.framework/Versions/3.10/lib/python3.10/site-packages (from bertopic) (5.24.1)\n",
      "Requirement already satisfied: scikit-learn>=1.0 in /Library/Frameworks/Python.framework/Versions/3.10/lib/python3.10/site-packages (from bertopic) (1.5.2)\n",
      "Requirement already satisfied: sentence-transformers>=0.4.1 in /Library/Frameworks/Python.framework/Versions/3.10/lib/python3.10/site-packages (from bertopic) (4.1.0)\n",
      "Requirement already satisfied: tqdm>=4.41.1 in /Library/Frameworks/Python.framework/Versions/3.10/lib/python3.10/site-packages (from bertopic) (4.67.1)\n",
      "Requirement already satisfied: umap-learn>=0.5.0 in /Library/Frameworks/Python.framework/Versions/3.10/lib/python3.10/site-packages (from bertopic) (0.5.7)\n",
      "Requirement already satisfied: scipy>=1.0 in /Library/Frameworks/Python.framework/Versions/3.10/lib/python3.10/site-packages (from hdbscan>=0.8.29->bertopic) (1.13.1)\n",
      "Requirement already satisfied: joblib>=1.0 in /Library/Frameworks/Python.framework/Versions/3.10/lib/python3.10/site-packages (from hdbscan>=0.8.29->bertopic) (1.4.2)\n",
      "Requirement already satisfied: python-dateutil>=2.8.2 in /Library/Frameworks/Python.framework/Versions/3.10/lib/python3.10/site-packages (from pandas>=1.1.5->bertopic) (2.8.2)\n",
      "Requirement already satisfied: pytz>=2020.1 in /Library/Frameworks/Python.framework/Versions/3.10/lib/python3.10/site-packages (from pandas>=1.1.5->bertopic) (2024.2)\n",
      "Requirement already satisfied: tzdata>=2022.7 in /Library/Frameworks/Python.framework/Versions/3.10/lib/python3.10/site-packages (from pandas>=1.1.5->bertopic) (2024.2)\n",
      "Requirement already satisfied: tenacity>=6.2.0 in /Library/Frameworks/Python.framework/Versions/3.10/lib/python3.10/site-packages (from plotly>=4.7.0->bertopic) (9.0.0)\n",
      "Requirement already satisfied: packaging in /Library/Frameworks/Python.framework/Versions/3.10/lib/python3.10/site-packages (from plotly>=4.7.0->bertopic) (25.0)\n",
      "Requirement already satisfied: six>=1.5 in /Library/Frameworks/Python.framework/Versions/3.10/lib/python3.10/site-packages (from python-dateutil>=2.8.2->pandas>=1.1.5->bertopic) (1.16.0)\n",
      "Requirement already satisfied: threadpoolctl>=3.1.0 in /Library/Frameworks/Python.framework/Versions/3.10/lib/python3.10/site-packages (from scikit-learn>=1.0->bertopic) (3.5.0)\n",
      "Requirement already satisfied: transformers<5.0.0,>=4.41.0 in /Library/Frameworks/Python.framework/Versions/3.10/lib/python3.10/site-packages (from sentence-transformers>=0.4.1->bertopic) (4.52.3)\n",
      "Requirement already satisfied: torch>=1.11.0 in /Library/Frameworks/Python.framework/Versions/3.10/lib/python3.10/site-packages (from sentence-transformers>=0.4.1->bertopic) (2.2.2)\n",
      "Requirement already satisfied: huggingface-hub>=0.20.0 in /Library/Frameworks/Python.framework/Versions/3.10/lib/python3.10/site-packages (from sentence-transformers>=0.4.1->bertopic) (0.32.2)\n",
      "Requirement already satisfied: Pillow in /Library/Frameworks/Python.framework/Versions/3.10/lib/python3.10/site-packages (from sentence-transformers>=0.4.1->bertopic) (9.3.0)\n",
      "Requirement already satisfied: typing_extensions>=4.5.0 in /Library/Frameworks/Python.framework/Versions/3.10/lib/python3.10/site-packages (from sentence-transformers>=0.4.1->bertopic) (4.12.2)\n",
      "Requirement already satisfied: filelock in /Library/Frameworks/Python.framework/Versions/3.10/lib/python3.10/site-packages (from transformers<5.0.0,>=4.41.0->sentence-transformers>=0.4.1->bertopic) (3.18.0)\n",
      "Requirement already satisfied: pyyaml>=5.1 in /Library/Frameworks/Python.framework/Versions/3.10/lib/python3.10/site-packages (from transformers<5.0.0,>=4.41.0->sentence-transformers>=0.4.1->bertopic) (6.0.2)\n",
      "Requirement already satisfied: regex!=2019.12.17 in /Library/Frameworks/Python.framework/Versions/3.10/lib/python3.10/site-packages (from transformers<5.0.0,>=4.41.0->sentence-transformers>=0.4.1->bertopic) (2024.11.6)\n",
      "Requirement already satisfied: requests in /Library/Frameworks/Python.framework/Versions/3.10/lib/python3.10/site-packages (from transformers<5.0.0,>=4.41.0->sentence-transformers>=0.4.1->bertopic) (2.32.3)\n",
      "Requirement already satisfied: tokenizers<0.22,>=0.21 in /Library/Frameworks/Python.framework/Versions/3.10/lib/python3.10/site-packages (from transformers<5.0.0,>=4.41.0->sentence-transformers>=0.4.1->bertopic) (0.21.1)\n",
      "Requirement already satisfied: safetensors>=0.4.3 in /Library/Frameworks/Python.framework/Versions/3.10/lib/python3.10/site-packages (from transformers<5.0.0,>=4.41.0->sentence-transformers>=0.4.1->bertopic) (0.5.3)\n",
      "Requirement already satisfied: fsspec>=2023.5.0 in /Library/Frameworks/Python.framework/Versions/3.10/lib/python3.10/site-packages (from huggingface-hub>=0.20.0->sentence-transformers>=0.4.1->bertopic) (2025.5.1)\n",
      "Requirement already satisfied: hf-xet<2.0.0,>=1.1.2 in /Library/Frameworks/Python.framework/Versions/3.10/lib/python3.10/site-packages (from huggingface-hub>=0.20.0->sentence-transformers>=0.4.1->bertopic) (1.1.2)\n",
      "Requirement already satisfied: sympy in /Library/Frameworks/Python.framework/Versions/3.10/lib/python3.10/site-packages (from torch>=1.11.0->sentence-transformers>=0.4.1->bertopic) (1.14.0)\n",
      "Requirement already satisfied: networkx in /Library/Frameworks/Python.framework/Versions/3.10/lib/python3.10/site-packages (from torch>=1.11.0->sentence-transformers>=0.4.1->bertopic) (3.4.2)\n",
      "Requirement already satisfied: jinja2 in /Library/Frameworks/Python.framework/Versions/3.10/lib/python3.10/site-packages (from torch>=1.11.0->sentence-transformers>=0.4.1->bertopic) (3.1.5)\n",
      "Requirement already satisfied: numba>=0.51.2 in /Library/Frameworks/Python.framework/Versions/3.10/lib/python3.10/site-packages (from umap-learn>=0.5.0->bertopic) (0.61.2)\n",
      "Requirement already satisfied: pynndescent>=0.5 in /Library/Frameworks/Python.framework/Versions/3.10/lib/python3.10/site-packages (from umap-learn>=0.5.0->bertopic) (0.5.13)\n",
      "Requirement already satisfied: llvmlite<0.45,>=0.44.0dev0 in /Library/Frameworks/Python.framework/Versions/3.10/lib/python3.10/site-packages (from numba>=0.51.2->umap-learn>=0.5.0->bertopic) (0.44.0)\n",
      "Requirement already satisfied: MarkupSafe>=2.0 in /Library/Frameworks/Python.framework/Versions/3.10/lib/python3.10/site-packages (from jinja2->torch>=1.11.0->sentence-transformers>=0.4.1->bertopic) (3.0.2)\n",
      "Requirement already satisfied: charset-normalizer<4,>=2 in /Library/Frameworks/Python.framework/Versions/3.10/lib/python3.10/site-packages (from requests->transformers<5.0.0,>=4.41.0->sentence-transformers>=0.4.1->bertopic) (3.4.1)\n",
      "Requirement already satisfied: idna<4,>=2.5 in /Library/Frameworks/Python.framework/Versions/3.10/lib/python3.10/site-packages (from requests->transformers<5.0.0,>=4.41.0->sentence-transformers>=0.4.1->bertopic) (3.10)\n",
      "Requirement already satisfied: urllib3<3,>=1.21.1 in /Library/Frameworks/Python.framework/Versions/3.10/lib/python3.10/site-packages (from requests->transformers<5.0.0,>=4.41.0->sentence-transformers>=0.4.1->bertopic) (2.3.0)\n",
      "Requirement already satisfied: certifi>=2017.4.17 in /Library/Frameworks/Python.framework/Versions/3.10/lib/python3.10/site-packages (from requests->transformers<5.0.0,>=4.41.0->sentence-transformers>=0.4.1->bertopic) (2024.8.30)\n",
      "Requirement already satisfied: mpmath<1.4,>=1.1.0 in /Library/Frameworks/Python.framework/Versions/3.10/lib/python3.10/site-packages (from sympy->torch>=1.11.0->sentence-transformers>=0.4.1->bertopic) (1.3.0)\n",
      "Requirement already satisfied: pandas in /Library/Frameworks/Python.framework/Versions/3.10/lib/python3.10/site-packages (2.2.3)\n",
      "Requirement already satisfied: numpy in /Library/Frameworks/Python.framework/Versions/3.10/lib/python3.10/site-packages (1.26.4)\n",
      "Requirement already satisfied: scikit-learn in /Library/Frameworks/Python.framework/Versions/3.10/lib/python3.10/site-packages (1.5.2)\n",
      "Requirement already satisfied: matplotlib in /Library/Frameworks/Python.framework/Versions/3.10/lib/python3.10/site-packages (3.6.2)\n",
      "Requirement already satisfied: seaborn in /Library/Frameworks/Python.framework/Versions/3.10/lib/python3.10/site-packages (0.13.2)\n",
      "Requirement already satisfied: nltk in /Library/Frameworks/Python.framework/Versions/3.10/lib/python3.10/site-packages (3.9.1)\n",
      "Requirement already satisfied: python-dateutil>=2.8.2 in /Library/Frameworks/Python.framework/Versions/3.10/lib/python3.10/site-packages (from pandas) (2.8.2)\n",
      "Requirement already satisfied: pytz>=2020.1 in /Library/Frameworks/Python.framework/Versions/3.10/lib/python3.10/site-packages (from pandas) (2024.2)\n",
      "Requirement already satisfied: tzdata>=2022.7 in /Library/Frameworks/Python.framework/Versions/3.10/lib/python3.10/site-packages (from pandas) (2024.2)\n",
      "Requirement already satisfied: scipy>=1.6.0 in /Library/Frameworks/Python.framework/Versions/3.10/lib/python3.10/site-packages (from scikit-learn) (1.13.1)\n",
      "Requirement already satisfied: joblib>=1.2.0 in /Library/Frameworks/Python.framework/Versions/3.10/lib/python3.10/site-packages (from scikit-learn) (1.4.2)\n",
      "Requirement already satisfied: threadpoolctl>=3.1.0 in /Library/Frameworks/Python.framework/Versions/3.10/lib/python3.10/site-packages (from scikit-learn) (3.5.0)\n",
      "Requirement already satisfied: contourpy>=1.0.1 in /Library/Frameworks/Python.framework/Versions/3.10/lib/python3.10/site-packages (from matplotlib) (1.0.6)\n",
      "Requirement already satisfied: cycler>=0.10 in /Library/Frameworks/Python.framework/Versions/3.10/lib/python3.10/site-packages (from matplotlib) (0.11.0)\n",
      "Requirement already satisfied: fonttools>=4.22.0 in /Library/Frameworks/Python.framework/Versions/3.10/lib/python3.10/site-packages (from matplotlib) (4.38.0)\n",
      "Requirement already satisfied: kiwisolver>=1.0.1 in /Library/Frameworks/Python.framework/Versions/3.10/lib/python3.10/site-packages (from matplotlib) (1.4.4)\n",
      "Requirement already satisfied: packaging>=20.0 in /Library/Frameworks/Python.framework/Versions/3.10/lib/python3.10/site-packages (from matplotlib) (25.0)\n",
      "Requirement already satisfied: pillow>=6.2.0 in /Library/Frameworks/Python.framework/Versions/3.10/lib/python3.10/site-packages (from matplotlib) (9.3.0)\n",
      "Requirement already satisfied: pyparsing>=2.2.1 in /Library/Frameworks/Python.framework/Versions/3.10/lib/python3.10/site-packages (from matplotlib) (3.0.9)\n",
      "Requirement already satisfied: click in /Library/Frameworks/Python.framework/Versions/3.10/lib/python3.10/site-packages (from nltk) (8.1.8)\n",
      "Requirement already satisfied: regex>=2021.8.3 in /Library/Frameworks/Python.framework/Versions/3.10/lib/python3.10/site-packages (from nltk) (2024.11.6)\n",
      "Requirement already satisfied: tqdm in /Library/Frameworks/Python.framework/Versions/3.10/lib/python3.10/site-packages (from nltk) (4.67.1)\n",
      "Requirement already satisfied: six>=1.5 in /Library/Frameworks/Python.framework/Versions/3.10/lib/python3.10/site-packages (from python-dateutil>=2.8.2->pandas) (1.16.0)\n",
      "Requirement already satisfied: spacy in /Library/Frameworks/Python.framework/Versions/3.10/lib/python3.10/site-packages (3.8.5)\n",
      "Requirement already satisfied: spacy-legacy<3.1.0,>=3.0.11 in /Library/Frameworks/Python.framework/Versions/3.10/lib/python3.10/site-packages (from spacy) (3.0.12)\n",
      "Requirement already satisfied: spacy-loggers<2.0.0,>=1.0.0 in /Library/Frameworks/Python.framework/Versions/3.10/lib/python3.10/site-packages (from spacy) (1.0.5)\n",
      "Requirement already satisfied: murmurhash<1.1.0,>=0.28.0 in /Library/Frameworks/Python.framework/Versions/3.10/lib/python3.10/site-packages (from spacy) (1.0.12)\n",
      "Requirement already satisfied: cymem<2.1.0,>=2.0.2 in /Library/Frameworks/Python.framework/Versions/3.10/lib/python3.10/site-packages (from spacy) (2.0.11)\n",
      "Requirement already satisfied: preshed<3.1.0,>=3.0.2 in /Library/Frameworks/Python.framework/Versions/3.10/lib/python3.10/site-packages (from spacy) (3.0.9)\n",
      "Requirement already satisfied: thinc<8.4.0,>=8.3.4 in /Library/Frameworks/Python.framework/Versions/3.10/lib/python3.10/site-packages (from spacy) (8.3.4)\n",
      "Requirement already satisfied: wasabi<1.2.0,>=0.9.1 in /Library/Frameworks/Python.framework/Versions/3.10/lib/python3.10/site-packages (from spacy) (1.1.3)\n",
      "Requirement already satisfied: srsly<3.0.0,>=2.4.3 in /Library/Frameworks/Python.framework/Versions/3.10/lib/python3.10/site-packages (from spacy) (2.5.1)\n",
      "Requirement already satisfied: catalogue<2.1.0,>=2.0.6 in /Library/Frameworks/Python.framework/Versions/3.10/lib/python3.10/site-packages (from spacy) (2.0.10)\n",
      "Requirement already satisfied: weasel<0.5.0,>=0.1.0 in /Library/Frameworks/Python.framework/Versions/3.10/lib/python3.10/site-packages (from spacy) (0.4.1)\n",
      "Requirement already satisfied: typer<1.0.0,>=0.3.0 in /Library/Frameworks/Python.framework/Versions/3.10/lib/python3.10/site-packages (from spacy) (0.15.2)\n",
      "Requirement already satisfied: tqdm<5.0.0,>=4.38.0 in /Library/Frameworks/Python.framework/Versions/3.10/lib/python3.10/site-packages (from spacy) (4.67.1)\n",
      "Requirement already satisfied: numpy>=1.19.0 in /Library/Frameworks/Python.framework/Versions/3.10/lib/python3.10/site-packages (from spacy) (1.26.4)\n",
      "Requirement already satisfied: requests<3.0.0,>=2.13.0 in /Library/Frameworks/Python.framework/Versions/3.10/lib/python3.10/site-packages (from spacy) (2.32.3)\n",
      "Requirement already satisfied: pydantic!=1.8,!=1.8.1,<3.0.0,>=1.7.4 in /Library/Frameworks/Python.framework/Versions/3.10/lib/python3.10/site-packages (from spacy) (2.11.1)\n",
      "Requirement already satisfied: jinja2 in /Library/Frameworks/Python.framework/Versions/3.10/lib/python3.10/site-packages (from spacy) (3.1.5)\n",
      "Requirement already satisfied: setuptools in /Library/Frameworks/Python.framework/Versions/3.10/lib/python3.10/site-packages (from spacy) (63.2.0)\n",
      "Requirement already satisfied: packaging>=20.0 in /Library/Frameworks/Python.framework/Versions/3.10/lib/python3.10/site-packages (from spacy) (25.0)\n",
      "Requirement already satisfied: langcodes<4.0.0,>=3.2.0 in /Library/Frameworks/Python.framework/Versions/3.10/lib/python3.10/site-packages (from spacy) (3.5.0)\n",
      "Requirement already satisfied: language-data>=1.2 in /Library/Frameworks/Python.framework/Versions/3.10/lib/python3.10/site-packages (from langcodes<4.0.0,>=3.2.0->spacy) (1.3.0)\n",
      "Requirement already satisfied: annotated-types>=0.6.0 in /Library/Frameworks/Python.framework/Versions/3.10/lib/python3.10/site-packages (from pydantic!=1.8,!=1.8.1,<3.0.0,>=1.7.4->spacy) (0.7.0)\n",
      "Requirement already satisfied: pydantic-core==2.33.0 in /Library/Frameworks/Python.framework/Versions/3.10/lib/python3.10/site-packages (from pydantic!=1.8,!=1.8.1,<3.0.0,>=1.7.4->spacy) (2.33.0)\n",
      "Requirement already satisfied: typing-extensions>=4.12.2 in /Library/Frameworks/Python.framework/Versions/3.10/lib/python3.10/site-packages (from pydantic!=1.8,!=1.8.1,<3.0.0,>=1.7.4->spacy) (4.12.2)\n",
      "Requirement already satisfied: typing-inspection>=0.4.0 in /Library/Frameworks/Python.framework/Versions/3.10/lib/python3.10/site-packages (from pydantic!=1.8,!=1.8.1,<3.0.0,>=1.7.4->spacy) (0.4.0)\n",
      "Requirement already satisfied: charset-normalizer<4,>=2 in /Library/Frameworks/Python.framework/Versions/3.10/lib/python3.10/site-packages (from requests<3.0.0,>=2.13.0->spacy) (3.4.1)\n",
      "Requirement already satisfied: idna<4,>=2.5 in /Library/Frameworks/Python.framework/Versions/3.10/lib/python3.10/site-packages (from requests<3.0.0,>=2.13.0->spacy) (3.10)\n",
      "Requirement already satisfied: urllib3<3,>=1.21.1 in /Library/Frameworks/Python.framework/Versions/3.10/lib/python3.10/site-packages (from requests<3.0.0,>=2.13.0->spacy) (2.3.0)\n",
      "Requirement already satisfied: certifi>=2017.4.17 in /Library/Frameworks/Python.framework/Versions/3.10/lib/python3.10/site-packages (from requests<3.0.0,>=2.13.0->spacy) (2024.8.30)\n",
      "Requirement already satisfied: blis<1.3.0,>=1.2.0 in /Library/Frameworks/Python.framework/Versions/3.10/lib/python3.10/site-packages (from thinc<8.4.0,>=8.3.4->spacy) (1.2.1)\n",
      "Requirement already satisfied: confection<1.0.0,>=0.0.1 in /Library/Frameworks/Python.framework/Versions/3.10/lib/python3.10/site-packages (from thinc<8.4.0,>=8.3.4->spacy) (0.1.5)\n",
      "Requirement already satisfied: click>=8.0.0 in /Library/Frameworks/Python.framework/Versions/3.10/lib/python3.10/site-packages (from typer<1.0.0,>=0.3.0->spacy) (8.1.8)\n",
      "Requirement already satisfied: shellingham>=1.3.0 in /Library/Frameworks/Python.framework/Versions/3.10/lib/python3.10/site-packages (from typer<1.0.0,>=0.3.0->spacy) (1.5.4)\n",
      "Requirement already satisfied: rich>=10.11.0 in /Library/Frameworks/Python.framework/Versions/3.10/lib/python3.10/site-packages (from typer<1.0.0,>=0.3.0->spacy) (13.9.4)\n",
      "Requirement already satisfied: cloudpathlib<1.0.0,>=0.7.0 in /Library/Frameworks/Python.framework/Versions/3.10/lib/python3.10/site-packages (from weasel<0.5.0,>=0.1.0->spacy) (0.21.0)\n",
      "Requirement already satisfied: smart-open<8.0.0,>=5.2.1 in /Library/Frameworks/Python.framework/Versions/3.10/lib/python3.10/site-packages (from weasel<0.5.0,>=0.1.0->spacy) (7.1.0)\n",
      "Requirement already satisfied: wrapt in /Library/Frameworks/Python.framework/Versions/3.10/lib/python3.10/site-packages (from smart-open<8.0.0,>=5.2.1->weasel<0.5.0,>=0.1.0->spacy) (1.17.2)\n",
      "Requirement already satisfied: marisa-trie>=1.1.0 in /Library/Frameworks/Python.framework/Versions/3.10/lib/python3.10/site-packages (from language-data>=1.2->langcodes<4.0.0,>=3.2.0->spacy) (1.2.1)\n",
      "Requirement already satisfied: markdown-it-py>=2.2.0 in /Library/Frameworks/Python.framework/Versions/3.10/lib/python3.10/site-packages (from rich>=10.11.0->typer<1.0.0,>=0.3.0->spacy) (3.0.0)\n",
      "Requirement already satisfied: pygments<3.0.0,>=2.13.0 in /Library/Frameworks/Python.framework/Versions/3.10/lib/python3.10/site-packages (from rich>=10.11.0->typer<1.0.0,>=0.3.0->spacy) (2.18.0)\n",
      "Requirement already satisfied: mdurl~=0.1 in /Library/Frameworks/Python.framework/Versions/3.10/lib/python3.10/site-packages (from markdown-it-py>=2.2.0->rich>=10.11.0->typer<1.0.0,>=0.3.0->spacy) (0.1.2)\n",
      "Requirement already satisfied: MarkupSafe>=2.0 in /Library/Frameworks/Python.framework/Versions/3.10/lib/python3.10/site-packages (from jinja2->spacy) (3.0.2)\n",
      "Requirement already satisfied: umap-learn in /Library/Frameworks/Python.framework/Versions/3.10/lib/python3.10/site-packages (0.5.7)\n",
      "Requirement already satisfied: hdbscan in /Library/Frameworks/Python.framework/Versions/3.10/lib/python3.10/site-packages (0.8.40)\n",
      "Requirement already satisfied: sentence-transformers in /Library/Frameworks/Python.framework/Versions/3.10/lib/python3.10/site-packages (4.1.0)\n",
      "Requirement already satisfied: numpy>=1.17 in /Library/Frameworks/Python.framework/Versions/3.10/lib/python3.10/site-packages (from umap-learn) (1.26.4)\n",
      "Requirement already satisfied: scipy>=1.3.1 in /Library/Frameworks/Python.framework/Versions/3.10/lib/python3.10/site-packages (from umap-learn) (1.13.1)\n",
      "Requirement already satisfied: scikit-learn>=0.22 in /Library/Frameworks/Python.framework/Versions/3.10/lib/python3.10/site-packages (from umap-learn) (1.5.2)\n",
      "Requirement already satisfied: numba>=0.51.2 in /Library/Frameworks/Python.framework/Versions/3.10/lib/python3.10/site-packages (from umap-learn) (0.61.2)\n",
      "Requirement already satisfied: pynndescent>=0.5 in /Library/Frameworks/Python.framework/Versions/3.10/lib/python3.10/site-packages (from umap-learn) (0.5.13)\n",
      "Requirement already satisfied: tqdm in /Library/Frameworks/Python.framework/Versions/3.10/lib/python3.10/site-packages (from umap-learn) (4.67.1)\n",
      "Requirement already satisfied: joblib>=1.0 in /Library/Frameworks/Python.framework/Versions/3.10/lib/python3.10/site-packages (from hdbscan) (1.4.2)\n",
      "Requirement already satisfied: transformers<5.0.0,>=4.41.0 in /Library/Frameworks/Python.framework/Versions/3.10/lib/python3.10/site-packages (from sentence-transformers) (4.52.3)\n",
      "Requirement already satisfied: torch>=1.11.0 in /Library/Frameworks/Python.framework/Versions/3.10/lib/python3.10/site-packages (from sentence-transformers) (2.2.2)\n",
      "Requirement already satisfied: huggingface-hub>=0.20.0 in /Library/Frameworks/Python.framework/Versions/3.10/lib/python3.10/site-packages (from sentence-transformers) (0.32.2)\n",
      "Requirement already satisfied: Pillow in /Library/Frameworks/Python.framework/Versions/3.10/lib/python3.10/site-packages (from sentence-transformers) (9.3.0)\n",
      "Requirement already satisfied: typing_extensions>=4.5.0 in /Library/Frameworks/Python.framework/Versions/3.10/lib/python3.10/site-packages (from sentence-transformers) (4.12.2)\n",
      "Requirement already satisfied: filelock in /Library/Frameworks/Python.framework/Versions/3.10/lib/python3.10/site-packages (from transformers<5.0.0,>=4.41.0->sentence-transformers) (3.18.0)\n",
      "Requirement already satisfied: packaging>=20.0 in /Library/Frameworks/Python.framework/Versions/3.10/lib/python3.10/site-packages (from transformers<5.0.0,>=4.41.0->sentence-transformers) (25.0)\n",
      "Requirement already satisfied: pyyaml>=5.1 in /Library/Frameworks/Python.framework/Versions/3.10/lib/python3.10/site-packages (from transformers<5.0.0,>=4.41.0->sentence-transformers) (6.0.2)\n",
      "Requirement already satisfied: regex!=2019.12.17 in /Library/Frameworks/Python.framework/Versions/3.10/lib/python3.10/site-packages (from transformers<5.0.0,>=4.41.0->sentence-transformers) (2024.11.6)\n",
      "Requirement already satisfied: requests in /Library/Frameworks/Python.framework/Versions/3.10/lib/python3.10/site-packages (from transformers<5.0.0,>=4.41.0->sentence-transformers) (2.32.3)\n",
      "Requirement already satisfied: tokenizers<0.22,>=0.21 in /Library/Frameworks/Python.framework/Versions/3.10/lib/python3.10/site-packages (from transformers<5.0.0,>=4.41.0->sentence-transformers) (0.21.1)\n",
      "Requirement already satisfied: safetensors>=0.4.3 in /Library/Frameworks/Python.framework/Versions/3.10/lib/python3.10/site-packages (from transformers<5.0.0,>=4.41.0->sentence-transformers) (0.5.3)\n",
      "Requirement already satisfied: fsspec>=2023.5.0 in /Library/Frameworks/Python.framework/Versions/3.10/lib/python3.10/site-packages (from huggingface-hub>=0.20.0->sentence-transformers) (2025.5.1)\n",
      "Requirement already satisfied: hf-xet<2.0.0,>=1.1.2 in /Library/Frameworks/Python.framework/Versions/3.10/lib/python3.10/site-packages (from huggingface-hub>=0.20.0->sentence-transformers) (1.1.2)\n",
      "Requirement already satisfied: llvmlite<0.45,>=0.44.0dev0 in /Library/Frameworks/Python.framework/Versions/3.10/lib/python3.10/site-packages (from numba>=0.51.2->umap-learn) (0.44.0)\n",
      "Requirement already satisfied: threadpoolctl>=3.1.0 in /Library/Frameworks/Python.framework/Versions/3.10/lib/python3.10/site-packages (from scikit-learn>=0.22->umap-learn) (3.5.0)\n",
      "Requirement already satisfied: sympy in /Library/Frameworks/Python.framework/Versions/3.10/lib/python3.10/site-packages (from torch>=1.11.0->sentence-transformers) (1.14.0)\n",
      "Requirement already satisfied: networkx in /Library/Frameworks/Python.framework/Versions/3.10/lib/python3.10/site-packages (from torch>=1.11.0->sentence-transformers) (3.4.2)\n",
      "Requirement already satisfied: jinja2 in /Library/Frameworks/Python.framework/Versions/3.10/lib/python3.10/site-packages (from torch>=1.11.0->sentence-transformers) (3.1.5)\n",
      "Requirement already satisfied: MarkupSafe>=2.0 in /Library/Frameworks/Python.framework/Versions/3.10/lib/python3.10/site-packages (from jinja2->torch>=1.11.0->sentence-transformers) (3.0.2)\n",
      "Requirement already satisfied: charset-normalizer<4,>=2 in /Library/Frameworks/Python.framework/Versions/3.10/lib/python3.10/site-packages (from requests->transformers<5.0.0,>=4.41.0->sentence-transformers) (3.4.1)\n",
      "Requirement already satisfied: idna<4,>=2.5 in /Library/Frameworks/Python.framework/Versions/3.10/lib/python3.10/site-packages (from requests->transformers<5.0.0,>=4.41.0->sentence-transformers) (3.10)\n",
      "Requirement already satisfied: urllib3<3,>=1.21.1 in /Library/Frameworks/Python.framework/Versions/3.10/lib/python3.10/site-packages (from requests->transformers<5.0.0,>=4.41.0->sentence-transformers) (2.3.0)\n",
      "Requirement already satisfied: certifi>=2017.4.17 in /Library/Frameworks/Python.framework/Versions/3.10/lib/python3.10/site-packages (from requests->transformers<5.0.0,>=4.41.0->sentence-transformers) (2024.8.30)\n",
      "Requirement already satisfied: mpmath<1.4,>=1.1.0 in /Library/Frameworks/Python.framework/Versions/3.10/lib/python3.10/site-packages (from sympy->torch>=1.11.0->sentence-transformers) (1.3.0)\n",
      "Requirement already satisfied: pyvis in /Library/Frameworks/Python.framework/Versions/3.10/lib/python3.10/site-packages (0.3.2)\n",
      "Requirement already satisfied: ipython>=5.3.0 in /Library/Frameworks/Python.framework/Versions/3.10/lib/python3.10/site-packages (from pyvis) (8.28.0)\n",
      "Requirement already satisfied: jinja2>=2.9.6 in /Library/Frameworks/Python.framework/Versions/3.10/lib/python3.10/site-packages (from pyvis) (3.1.5)\n",
      "Requirement already satisfied: jsonpickle>=1.4.1 in /Library/Frameworks/Python.framework/Versions/3.10/lib/python3.10/site-packages (from pyvis) (4.1.0)\n",
      "Requirement already satisfied: networkx>=1.11 in /Library/Frameworks/Python.framework/Versions/3.10/lib/python3.10/site-packages (from pyvis) (3.4.2)\n",
      "Requirement already satisfied: decorator in /Library/Frameworks/Python.framework/Versions/3.10/lib/python3.10/site-packages (from ipython>=5.3.0->pyvis) (5.1.1)\n",
      "Requirement already satisfied: jedi>=0.16 in /Library/Frameworks/Python.framework/Versions/3.10/lib/python3.10/site-packages (from ipython>=5.3.0->pyvis) (0.19.1)\n",
      "Requirement already satisfied: matplotlib-inline in /Library/Frameworks/Python.framework/Versions/3.10/lib/python3.10/site-packages (from ipython>=5.3.0->pyvis) (0.1.7)\n",
      "Requirement already satisfied: prompt-toolkit<3.1.0,>=3.0.41 in /Library/Frameworks/Python.framework/Versions/3.10/lib/python3.10/site-packages (from ipython>=5.3.0->pyvis) (3.0.48)\n",
      "Requirement already satisfied: pygments>=2.4.0 in /Library/Frameworks/Python.framework/Versions/3.10/lib/python3.10/site-packages (from ipython>=5.3.0->pyvis) (2.18.0)\n",
      "Requirement already satisfied: stack-data in /Library/Frameworks/Python.framework/Versions/3.10/lib/python3.10/site-packages (from ipython>=5.3.0->pyvis) (0.6.3)\n",
      "Requirement already satisfied: traitlets>=5.13.0 in /Library/Frameworks/Python.framework/Versions/3.10/lib/python3.10/site-packages (from ipython>=5.3.0->pyvis) (5.14.3)\n",
      "Requirement already satisfied: exceptiongroup in /Library/Frameworks/Python.framework/Versions/3.10/lib/python3.10/site-packages (from ipython>=5.3.0->pyvis) (1.2.2)\n",
      "Requirement already satisfied: typing-extensions>=4.6 in /Library/Frameworks/Python.framework/Versions/3.10/lib/python3.10/site-packages (from ipython>=5.3.0->pyvis) (4.12.2)\n",
      "Requirement already satisfied: pexpect>4.3 in /Library/Frameworks/Python.framework/Versions/3.10/lib/python3.10/site-packages (from ipython>=5.3.0->pyvis) (4.9.0)\n",
      "Requirement already satisfied: wcwidth in /Library/Frameworks/Python.framework/Versions/3.10/lib/python3.10/site-packages (from prompt-toolkit<3.1.0,>=3.0.41->ipython>=5.3.0->pyvis) (0.2.13)\n",
      "Requirement already satisfied: parso<0.9.0,>=0.8.3 in /Library/Frameworks/Python.framework/Versions/3.10/lib/python3.10/site-packages (from jedi>=0.16->ipython>=5.3.0->pyvis) (0.8.4)\n",
      "Requirement already satisfied: MarkupSafe>=2.0 in /Library/Frameworks/Python.framework/Versions/3.10/lib/python3.10/site-packages (from jinja2>=2.9.6->pyvis) (3.0.2)\n",
      "Requirement already satisfied: ptyprocess>=0.5 in /Library/Frameworks/Python.framework/Versions/3.10/lib/python3.10/site-packages (from pexpect>4.3->ipython>=5.3.0->pyvis) (0.7.0)\n",
      "Requirement already satisfied: executing>=1.2.0 in /Library/Frameworks/Python.framework/Versions/3.10/lib/python3.10/site-packages (from stack-data->ipython>=5.3.0->pyvis) (2.1.0)\n",
      "Requirement already satisfied: asttokens>=2.1.0 in /Library/Frameworks/Python.framework/Versions/3.10/lib/python3.10/site-packages (from stack-data->ipython>=5.3.0->pyvis) (2.4.1)\n",
      "Requirement already satisfied: pure-eval in /Library/Frameworks/Python.framework/Versions/3.10/lib/python3.10/site-packages (from stack-data->ipython>=5.3.0->pyvis) (0.2.3)\n",
      "Requirement already satisfied: six>=1.12.0 in /Library/Frameworks/Python.framework/Versions/3.10/lib/python3.10/site-packages (from asttokens>=2.1.0->stack-data->ipython>=5.3.0->pyvis) (1.16.0)\n",
      "Requirement already satisfied: pyLDAvis in /Library/Frameworks/Python.framework/Versions/3.10/lib/python3.10/site-packages (3.4.1)\n",
      "Requirement already satisfied: numpy>=1.24.2 in /Library/Frameworks/Python.framework/Versions/3.10/lib/python3.10/site-packages (from pyLDAvis) (1.26.4)\n",
      "Requirement already satisfied: scipy in /Library/Frameworks/Python.framework/Versions/3.10/lib/python3.10/site-packages (from pyLDAvis) (1.13.1)\n",
      "Requirement already satisfied: pandas>=2.0.0 in /Library/Frameworks/Python.framework/Versions/3.10/lib/python3.10/site-packages (from pyLDAvis) (2.2.3)\n",
      "Requirement already satisfied: joblib>=1.2.0 in /Library/Frameworks/Python.framework/Versions/3.10/lib/python3.10/site-packages (from pyLDAvis) (1.4.2)\n",
      "Requirement already satisfied: jinja2 in /Library/Frameworks/Python.framework/Versions/3.10/lib/python3.10/site-packages (from pyLDAvis) (3.1.5)\n",
      "Requirement already satisfied: numexpr in /Library/Frameworks/Python.framework/Versions/3.10/lib/python3.10/site-packages (from pyLDAvis) (2.10.2)\n",
      "Requirement already satisfied: funcy in /Library/Frameworks/Python.framework/Versions/3.10/lib/python3.10/site-packages (from pyLDAvis) (2.0)\n",
      "Requirement already satisfied: scikit-learn>=1.0.0 in /Library/Frameworks/Python.framework/Versions/3.10/lib/python3.10/site-packages (from pyLDAvis) (1.5.2)\n",
      "Requirement already satisfied: gensim in /Library/Frameworks/Python.framework/Versions/3.10/lib/python3.10/site-packages (from pyLDAvis) (4.3.3)\n",
      "Requirement already satisfied: setuptools in /Library/Frameworks/Python.framework/Versions/3.10/lib/python3.10/site-packages (from pyLDAvis) (63.2.0)\n",
      "Requirement already satisfied: python-dateutil>=2.8.2 in /Library/Frameworks/Python.framework/Versions/3.10/lib/python3.10/site-packages (from pandas>=2.0.0->pyLDAvis) (2.8.2)\n",
      "Requirement already satisfied: pytz>=2020.1 in /Library/Frameworks/Python.framework/Versions/3.10/lib/python3.10/site-packages (from pandas>=2.0.0->pyLDAvis) (2024.2)\n",
      "Requirement already satisfied: tzdata>=2022.7 in /Library/Frameworks/Python.framework/Versions/3.10/lib/python3.10/site-packages (from pandas>=2.0.0->pyLDAvis) (2024.2)\n",
      "Requirement already satisfied: six>=1.5 in /Library/Frameworks/Python.framework/Versions/3.10/lib/python3.10/site-packages (from python-dateutil>=2.8.2->pandas>=2.0.0->pyLDAvis) (1.16.0)\n",
      "Requirement already satisfied: threadpoolctl>=3.1.0 in /Library/Frameworks/Python.framework/Versions/3.10/lib/python3.10/site-packages (from scikit-learn>=1.0.0->pyLDAvis) (3.5.0)\n",
      "Requirement already satisfied: smart-open>=1.8.1 in /Library/Frameworks/Python.framework/Versions/3.10/lib/python3.10/site-packages (from gensim->pyLDAvis) (7.1.0)\n",
      "Requirement already satisfied: wrapt in /Library/Frameworks/Python.framework/Versions/3.10/lib/python3.10/site-packages (from smart-open>=1.8.1->gensim->pyLDAvis) (1.17.2)\n",
      "Requirement already satisfied: MarkupSafe>=2.0 in /Library/Frameworks/Python.framework/Versions/3.10/lib/python3.10/site-packages (from jinja2->pyLDAvis) (3.0.2)\n",
      "Requirement already satisfied: top2vec in /Library/Frameworks/Python.framework/Versions/3.10/lib/python3.10/site-packages (1.0.36)\n",
      "Requirement already satisfied: numpy>=1.20.0 in /Library/Frameworks/Python.framework/Versions/3.10/lib/python3.10/site-packages (from top2vec) (1.26.4)\n",
      "Requirement already satisfied: pandas in /Library/Frameworks/Python.framework/Versions/3.10/lib/python3.10/site-packages (from top2vec) (2.2.3)\n",
      "Requirement already satisfied: scikit-learn>=1.2.0 in /Library/Frameworks/Python.framework/Versions/3.10/lib/python3.10/site-packages (from top2vec) (1.5.2)\n",
      "Requirement already satisfied: gensim>=4.0.0 in /Library/Frameworks/Python.framework/Versions/3.10/lib/python3.10/site-packages (from top2vec) (4.3.3)\n",
      "Requirement already satisfied: umap-learn>=0.5.1 in /Library/Frameworks/Python.framework/Versions/3.10/lib/python3.10/site-packages (from top2vec) (0.5.7)\n",
      "Requirement already satisfied: hdbscan>=0.8.27 in /Library/Frameworks/Python.framework/Versions/3.10/lib/python3.10/site-packages (from top2vec) (0.8.40)\n",
      "Requirement already satisfied: wordcloud in /Library/Frameworks/Python.framework/Versions/3.10/lib/python3.10/site-packages (from top2vec) (1.9.4)\n",
      "Requirement already satisfied: transformers in /Library/Frameworks/Python.framework/Versions/3.10/lib/python3.10/site-packages (from top2vec) (4.52.3)\n",
      "Requirement already satisfied: tqdm in /Library/Frameworks/Python.framework/Versions/3.10/lib/python3.10/site-packages (from top2vec) (4.67.1)\n",
      "Requirement already satisfied: scipy<1.14.0,>=1.7.0 in /Library/Frameworks/Python.framework/Versions/3.10/lib/python3.10/site-packages (from gensim>=4.0.0->top2vec) (1.13.1)\n",
      "Requirement already satisfied: smart-open>=1.8.1 in /Library/Frameworks/Python.framework/Versions/3.10/lib/python3.10/site-packages (from gensim>=4.0.0->top2vec) (7.1.0)\n",
      "Requirement already satisfied: joblib>=1.0 in /Library/Frameworks/Python.framework/Versions/3.10/lib/python3.10/site-packages (from hdbscan>=0.8.27->top2vec) (1.4.2)\n",
      "Requirement already satisfied: threadpoolctl>=3.1.0 in /Library/Frameworks/Python.framework/Versions/3.10/lib/python3.10/site-packages (from scikit-learn>=1.2.0->top2vec) (3.5.0)\n",
      "Requirement already satisfied: wrapt in /Library/Frameworks/Python.framework/Versions/3.10/lib/python3.10/site-packages (from smart-open>=1.8.1->gensim>=4.0.0->top2vec) (1.17.2)\n",
      "Requirement already satisfied: numba>=0.51.2 in /Library/Frameworks/Python.framework/Versions/3.10/lib/python3.10/site-packages (from umap-learn>=0.5.1->top2vec) (0.61.2)\n",
      "Requirement already satisfied: pynndescent>=0.5 in /Library/Frameworks/Python.framework/Versions/3.10/lib/python3.10/site-packages (from umap-learn>=0.5.1->top2vec) (0.5.13)\n",
      "Requirement already satisfied: llvmlite<0.45,>=0.44.0dev0 in /Library/Frameworks/Python.framework/Versions/3.10/lib/python3.10/site-packages (from numba>=0.51.2->umap-learn>=0.5.1->top2vec) (0.44.0)\n",
      "Requirement already satisfied: python-dateutil>=2.8.2 in /Library/Frameworks/Python.framework/Versions/3.10/lib/python3.10/site-packages (from pandas->top2vec) (2.8.2)\n",
      "Requirement already satisfied: pytz>=2020.1 in /Library/Frameworks/Python.framework/Versions/3.10/lib/python3.10/site-packages (from pandas->top2vec) (2024.2)\n",
      "Requirement already satisfied: tzdata>=2022.7 in /Library/Frameworks/Python.framework/Versions/3.10/lib/python3.10/site-packages (from pandas->top2vec) (2024.2)\n",
      "Requirement already satisfied: six>=1.5 in /Library/Frameworks/Python.framework/Versions/3.10/lib/python3.10/site-packages (from python-dateutil>=2.8.2->pandas->top2vec) (1.16.0)\n",
      "Requirement already satisfied: filelock in /Library/Frameworks/Python.framework/Versions/3.10/lib/python3.10/site-packages (from transformers->top2vec) (3.18.0)\n",
      "Requirement already satisfied: huggingface-hub<1.0,>=0.30.0 in /Library/Frameworks/Python.framework/Versions/3.10/lib/python3.10/site-packages (from transformers->top2vec) (0.32.2)\n",
      "Requirement already satisfied: packaging>=20.0 in /Library/Frameworks/Python.framework/Versions/3.10/lib/python3.10/site-packages (from transformers->top2vec) (25.0)\n",
      "Requirement already satisfied: pyyaml>=5.1 in /Library/Frameworks/Python.framework/Versions/3.10/lib/python3.10/site-packages (from transformers->top2vec) (6.0.2)\n",
      "Requirement already satisfied: regex!=2019.12.17 in /Library/Frameworks/Python.framework/Versions/3.10/lib/python3.10/site-packages (from transformers->top2vec) (2024.11.6)\n",
      "Requirement already satisfied: requests in /Library/Frameworks/Python.framework/Versions/3.10/lib/python3.10/site-packages (from transformers->top2vec) (2.32.3)\n",
      "Requirement already satisfied: tokenizers<0.22,>=0.21 in /Library/Frameworks/Python.framework/Versions/3.10/lib/python3.10/site-packages (from transformers->top2vec) (0.21.1)\n",
      "Requirement already satisfied: safetensors>=0.4.3 in /Library/Frameworks/Python.framework/Versions/3.10/lib/python3.10/site-packages (from transformers->top2vec) (0.5.3)\n",
      "Requirement already satisfied: fsspec>=2023.5.0 in /Library/Frameworks/Python.framework/Versions/3.10/lib/python3.10/site-packages (from huggingface-hub<1.0,>=0.30.0->transformers->top2vec) (2025.5.1)\n",
      "Requirement already satisfied: typing-extensions>=3.7.4.3 in /Library/Frameworks/Python.framework/Versions/3.10/lib/python3.10/site-packages (from huggingface-hub<1.0,>=0.30.0->transformers->top2vec) (4.12.2)\n",
      "Requirement already satisfied: hf-xet<2.0.0,>=1.1.2 in /Library/Frameworks/Python.framework/Versions/3.10/lib/python3.10/site-packages (from huggingface-hub<1.0,>=0.30.0->transformers->top2vec) (1.1.2)\n",
      "Requirement already satisfied: charset-normalizer<4,>=2 in /Library/Frameworks/Python.framework/Versions/3.10/lib/python3.10/site-packages (from requests->transformers->top2vec) (3.4.1)\n",
      "Requirement already satisfied: idna<4,>=2.5 in /Library/Frameworks/Python.framework/Versions/3.10/lib/python3.10/site-packages (from requests->transformers->top2vec) (3.10)\n",
      "Requirement already satisfied: urllib3<3,>=1.21.1 in /Library/Frameworks/Python.framework/Versions/3.10/lib/python3.10/site-packages (from requests->transformers->top2vec) (2.3.0)\n",
      "Requirement already satisfied: certifi>=2017.4.17 in /Library/Frameworks/Python.framework/Versions/3.10/lib/python3.10/site-packages (from requests->transformers->top2vec) (2024.8.30)\n",
      "Requirement already satisfied: pillow in /Library/Frameworks/Python.framework/Versions/3.10/lib/python3.10/site-packages (from wordcloud->top2vec) (9.3.0)\n",
      "Requirement already satisfied: matplotlib in /Library/Frameworks/Python.framework/Versions/3.10/lib/python3.10/site-packages (from wordcloud->top2vec) (3.6.2)\n",
      "Requirement already satisfied: contourpy>=1.0.1 in /Library/Frameworks/Python.framework/Versions/3.10/lib/python3.10/site-packages (from matplotlib->wordcloud->top2vec) (1.0.6)\n",
      "Requirement already satisfied: cycler>=0.10 in /Library/Frameworks/Python.framework/Versions/3.10/lib/python3.10/site-packages (from matplotlib->wordcloud->top2vec) (0.11.0)\n",
      "Requirement already satisfied: fonttools>=4.22.0 in /Library/Frameworks/Python.framework/Versions/3.10/lib/python3.10/site-packages (from matplotlib->wordcloud->top2vec) (4.38.0)\n",
      "Requirement already satisfied: kiwisolver>=1.0.1 in /Library/Frameworks/Python.framework/Versions/3.10/lib/python3.10/site-packages (from matplotlib->wordcloud->top2vec) (1.4.4)\n",
      "Requirement already satisfied: pyparsing>=2.2.1 in /Library/Frameworks/Python.framework/Versions/3.10/lib/python3.10/site-packages (from matplotlib->wordcloud->top2vec) (3.0.9)\n",
      "Collecting en-core-web-sm==3.8.0\n",
      "  Downloading https://github.com/explosion/spacy-models/releases/download/en_core_web_sm-3.8.0/en_core_web_sm-3.8.0-py3-none-any.whl (12.8 MB)\n",
      "\u001b[2K     \u001b[90m━━━━━━━━━━━━━━━━━━━━━━━━━━━━━━━━━━━━━━━\u001b[0m \u001b[32m12.8/12.8 MB\u001b[0m \u001b[31m761.3 kB/s\u001b[0m eta \u001b[36m0:00:00\u001b[0m00:01\u001b[0m00:01\u001b[0m\n",
      "\u001b[?25h\u001b[38;5;2m✔ Download and installation successful\u001b[0m\n",
      "You can now load the package via spacy.load('en_core_web_sm')\n"
     ]
    }
   ],
   "source": [
    "! pip install gensim\n",
    "! pip install bertopic\n",
    "! pip install pandas numpy scikit-learn matplotlib seaborn nltk\n",
    "! pip install spacy\n",
    "! pip install umap-learn hdbscan sentence-transformers\n",
    "! pip install pyvis\n",
    "! pip install pyLDAvis\n",
    "! pip install top2vec\n",
    "! python3.10 -m spacy download en_core_web_sm"
   ]
  },
  {
   "cell_type": "markdown",
   "metadata": {},
   "source": [
    "# Method 1: Named Entity Recognition"
   ]
  },
  {
   "cell_type": "markdown",
   "metadata": {},
   "source": [
    "## Step 1: Get the top characters"
   ]
  },
  {
   "cell_type": "code",
   "execution_count": 2,
   "metadata": {},
   "outputs": [
    {
     "name": "stdout",
     "output_type": "stream",
     "text": [
      "Top characters: [('David', 68), ('Bill', 55), ('Jimmy', 38), ('Andy', 26), ('Jim', 24), ('Geddie', 24), ('Sue', 23), ('Anthony', 20), ('Soapy', 15), ('Richard', 15)]\n"
     ]
    }
   ],
   "source": [
    "import spacy\n",
    "from collections import Counter\n",
    "import os\n",
    "\n",
    "nlp = spacy.load(\"en_core_web_sm\")\n",
    "\n",
    "folder_path = \"./ohenry_texts\"\n",
    "texts = []\n",
    "\n",
    "for filename in os.listdir(folder_path):\n",
    "    if filename.endswith(\".txt\"):\n",
    "        with open(os.path.join(folder_path, filename), 'r', encoding='utf-8') as f:\n",
    "            texts.append(f.read())\n",
    "\n",
    "all_text = \" \".join(texts)\n",
    "doc = nlp(all_text)\n",
    "\n",
    "characters = [ent.text for ent in doc.ents if ent.label_ == \"PERSON\"]\n",
    "\n",
    "char_counts = Counter(characters)\n",
    "print(\"Top characters:\", char_counts.most_common(10))\n"
   ]
  },
  {
   "cell_type": "markdown",
   "metadata": {},
   "source": [
    "## Step 2: Extract adjectives near characters as \"character feature\" labels"
   ]
  },
  {
   "cell_type": "code",
   "execution_count": 3,
   "metadata": {},
   "outputs": [
    {
     "name": "stdout",
     "output_type": "stream",
     "text": [
      "{'Jimmy Valentine': Counter({'front': 2, 'retrieved': 1, 'many': 1, 'worth': 1, 'little': 1, 'black': 1}), 'Jimmy': Counter({'young': 3, 'old': 3, 'next': 2, 'alive': 2, 'tired': 1, 'other': 1, 'innocent': 1, 'virtuous': 1, 'green': 1, 'right': 1, 'fine': 1, 'complete': 1, 'latest': 1, 'puzzled': 1, 'short': 1, 'athletic': 1, 'senior': 1, 'scarce': 1, 'specious': 1, 'safe': 1, 'married': 1, 'little': 1, 'lively': 1, 'large': 1, 'full': 1, 'pet': 1, 'strange': 1, 'only': 1, 'truest': 1, 'stanchest': 1}), 'Valentine': Counter({'neat': 1, 'safe': 1, 'long': 1, 'quick': 1, 'good': 1, 'successful': 1}), 'James Valentine': Counter(), 'Mike Dolan': Counter({'alone': 1}), 'Mike': Counter({'alone': 1, 'same': 1}), \"Ben Price's\": Counter({'eminent': 1, 'high': 1}), 'Logansport': Counter({'burglar': 1, 'safe': 1, 'untouched': 1}), 'Ben Price': Counter({'next': 1, 'short': 1, 'elusive': 1, 'other': 1, 'burglar': 1, 'proof': 1}), \"Dandy Jim Valentine's\": Counter(), 'Polly Simpson': Counter({'young': 1, 'specious': 1}), 'Annabel Adams': Counter(), 'Ralph D. Spencer': Counter({'good': 1}), 'Spencer': Counter({'few': 1, 'courteous': 1, 'intelligent': 1, 'mistaken': 1}), 'Ralph Spencer': Counter({'sudden': 1, 'alterative': 1}), \"Jimmy Valentine's\": Counter({'sudden': 1, 'alterative': 1}), 'Socially': Counter({'many': 1}), 'Miss Annabel Adams': Counter(), 'Annabel': Counter({'married': 1, 'little': 1, 'pleased': 1, 'agreeable': 1, 'young': 1, 'lively': 1, 'nice': 1, 'large': 1, 'full': 1}), 'Adams': Counter({'married': 2, 'typical': 1, 'much': 1, 'little': 1, 'high': 1, 'future': 1, 'welcome': 1, 'proud': 1, 'courteous': 1, 'intelligent': 1, 'hush': 1, 'nearer': 1, 'shaky': 1}), 'Sullivan': Counter({'next': 1}), 'Billy': Counter({'old': 1, 'only': 1, 'straight': 1}), 'Ben': Counter({'strange': 1}), 'Dolph Gibson': Counter(), 'Ralph': Counter({'heavy': 1, 'full': 1, 'soft': 1, 'keen': 1}), 'May': Counter({'funny': 1}), 'Agatha': Counter({'frantic': 1}), 'Andy Tucker': Counter({'legitimate': 1, 'pure': 1}), 'Jeff Peters': Counter({'legitimate': 1, 'pure': 1}), 'Andy': Counter({'little': 2, 'own': 2, 'old': 2, 'much': 1, 'honest': 1, 'different': 1, 'middle': 1, 'high': 1, 'actionable': 1, 'fresh': 1, 'petty': 1, 'better': 1, 'great': 1, 'dense': 1, 'especial': 1, 'immoral': 1, 'olive': 1, 'nous': 1, 'harder': 1, 'inherent': 1, 'ordinary': 1, 'wonderful': 1, 'patient': 1, 'next': 1, 'second': 1, 'exact': 1, 'voluntary': 1, 'ready': 1, 'sure': 1, 'genuine': 1}), 'Jeff': Counter({'nourishing': 1, 'landed': 1, 'exact': 1}), 'Bunkum Town': Counter({'worth': 1}), 'Moselle': Counter(), 'kay vooly': Counter(), \"J. P. Morgan's\": Counter({'big': 1, 'magic': 1}), 'Augusta': Counter({'big': 1, 'magic': 1}), 'Khafra': Counter({'egyptian': 1}), 'I.': Counter({'genuine': 1, 'other': 1, 'old': 1, 'square': 1, 'harmless': 1}), 'Pickleman': Counter({'blue': 1, 'black': 1}), 'Cornelius T. Scudder': Counter(), 'Queen Isis': Counter({'egyptian': 1}), 'Scudder': Counter({'great': 1}), 'Cornelius Scudder': Counter(), \"I. 'Cash\": Counter(), 'magnesia': Counter({'tall': 1, 'own': 1, 'calcined': 1, 'little': 1, 'round': 1}), 'Ikey Schoenstein': Counter(), 'Riddle': Counter({'stout': 1, 'sudden': 1}), 'Rosy': Counter({'bright': 1, 'good': 1, 'about': 1, 'possible': 1, 'dead': 1, 'easy': 1}), 'pat trope': Counter(), 'Chunk McGowan': Counter({'strong': 1, 'simple': 1, 'possible': 1, 'hearty': 1}), 'McGowan': Counter({'usual': 2, 'better': 2, 'superior': 2, 'bright': 1, 'perplexed': 1, 'ill': 1}), 'nixy': Counter({'same': 1}), 'Rosy’s': Counter({'affirmative': 1, 'whole': 1}), 'Chunk': Counter(), 'Tim Lacy': Counter(), 'Chunk with Elysium': Counter(), 'Brady': Counter({'best': 1, 'finest': 1}), 'Jimmy Wells': Counter({'best': 1, 'finest': 1}), 'Bob': Counter({'old': 2, 'sure': 1, 'good': 1, 'long': 1}), 'Patrolman Wells': Counter(), 'Easton': Counter({'little': 1, 'about': 1, 'other': 1, 'dear': 1, 'bound': 1, 'same': 1, 'slow': 1}), 'Fairchild': Counter({'dear': 1, 'good': 1}), 'Leavenworth': Counter(), 'Mamma': Counter(), 'Marshal': Counter(), 'Jack Frost’s': Counter(), 'Jack': Counter({'kind': 1, 'regular': 1, 'fair': 1, 'annual': 1}), 'Soapy': Counter({'fortunate': 1, 'humble': 1, 'annual': 1, 'benign': 1, 'friendly': 1, 'good': 1, 'accusive': 1, 'telltale': 1, 'busy': 1, 'despicable': 1, 'execrated': 1, 'persecuted': 1, 'young': 1, 'insular': 1, 'faint': 1, 'quiet': 1, 'organist': 1, 'such': 1}), 'Sabbath': Counter({'previous': 1, 'ancient': 1, 'soft': 1, 'organist': 1, 'sure': 1, 'bulky': 1, 'certain': 1, 'literary': 1}), 'Law': Counter({'benign': 1}), 'Brutus': Counter({'private': 1, 'personal': 1, 'stalwart': 1, 'older': 1, 'gray': 1, 'second': 1, 'late': 1}), 'Camembert': Counter({'roasted': 1, 'mallard': 1, 'demi': 1}), 'café': Counter({'high': 1, 'supreme': 1, 'happy': 1}), 'Noisy': Counter({'noisy': 1}), 'Punta Redonda': Counter({'old': 1}), 'Garcia': Counter({'old': 1}), 'Trysdale': Counter({'bitter': 1, 'spanish': 1}), 'Adam': Counter({'dear': 1, 'rash': 1, 'third': 1, 'collateral': 1}), 'Sidney Carton': Counter({'strong': 1}), 'Rip Van Winkle': Counter({'full': 1, 'exquisite': 1, 'southern': 1, 'slow': 1}), 'Kyar': Counter({'black': 1, 'clumsy': 1, 'reassuring': 1}), 'Thomas': Counter({'national': 1}), 'Jefferson Brick': Counter(), 'Wentworth Caswell': Counter({'empty': 1, 'mortal': 1}), 'A. Tennyson': Counter({'british': 2, 'old': 1, 'interchangeable': 1}), 'Buddha': Counter({'great': 1, 'red': 1, 'sleepy': 1}), 'Caswell': Counter({'third': 1, 'collateral': 1, 'many': 1, 'devoted': 1, 'glad': 1, 'old': 1, 'main': 1, 'possible': 1}), 'Albert': Counter({'slouch': 1}), 'Sherman': Counter({'slouch': 1}), 'Eve': Counter({'possible': 1, 'unbeguiled': 1, 'more': 1}), 'Uncle Cæsar': Counter({'first': 1, 'full': 1, 'fresh': 1, 'great': 1, 'careful': 1, 'many': 1, 'devoted': 1, 'glad': 1, 'old': 1, 'motley': 1}), 'Joseph': Counter({'pale': 1}), 'Azalea Adair': Counter({'old': 1, 'white': 1, 'thin': 1, 'cheapest': 1, 'cleanest': 1, 'simple': 1}), 'Andrew Jackson': Counter(), 'Hazlitt': Counter({'absent': 1, 'half': 1}), 'Montaigne': Counter({'absent': 1, 'half': 1}), 'Sing Yee': Counter({'almond': 1, 'american': 1}), 'Kitty Morgan': Counter({'euchre': 1, 'other': 1, 'dead': 1, 'lifelong': 1}), 'Baker': Counter({'worth': 1, 'able': 1}), 'Afrite': Counter({'dungeony': 1, 'peripatetic': 1, 'ritual': 1}), 'Adair': Counter(), 'Lucy': Counter({'full': 1, 'fresh': 1}), 'Merriman': Counter(), 'Miss Adair': Counter(), 'Mis': Counter({'bofe': 1, 'dem': 1}), 'Ransie Bilbro': Counter({'other': 2, 'better': 2, 'worse': 2, 'sound': 2, 'slow': 1, 'small': 1, 'dumb': 1, 'clear': 1}), 'Ransie': Counter({'sallow': 2, 'good': 2, 'narrow': 1, 'brown': 1, 'yellow': 1, 'solemn': 1, '-': 1, 'best': 1, 'awake': 1, 'about': 1, 'shy': 1, 'full': 1, 'fine': 1, 'sayin': 1, 'bye': 1, 'anxious': 1}), 'mount’ins': Counter({'hard': 1, 'mean': 1, 'able': 1}), 'Ariela Bilbro': Counter({'other': 1, 'better': 1, 'worse': 1, 'sound': 1, 'official': 1, 'much': 1, 'low': 1, 'good': 1, 'sufficient': 1}), 'Herein': Counter(), 'Benaja Widdup': Counter({'judicial': 1, 'mournful': 1}), 'Ariela': Counter({'other': 1, 'silent': 1, 'low': 1, 'lonesome': 1, 'mad': 1, 'wooden': 1, 'big': 1, 'thin': 1, 'brown': 1}), 'Ed': Counter(), 'Hogback': Counter(), 'Rance kin': Counter(), 'Ed’s': Counter({'much': 1, 'fine': 1}), 'Followin': Counter(), 'Uncle Ziah': Counter(), 'Ranse': Counter({'old': 2, 'kind': 1, 'lonesome': 1, 'startin': 1}), 'Anthony Rockwall': Counter({'speckled': 1, 'main': 1, 'retired': 1, 'same': 1}), 'G. Van Schuylight Suffolk-Jones': Counter({'aristocratic': 1, 'contumelious': 1, 'usual': 1, 'italian': 1, 'front': 1}), 'Anthony': Counter({'old': 5, 'dross': 2, 'true': 2, 'menial': 1, 'shocked': 1, 'gentle': 1, 'sentimental': 1, 'sighing': 1, 'much': 1, 'red': 1, 'piratical': 1, 'good': 1, 'little': 1}), 'Rockwall': Counter({'young': 1, 'old': 1, 'kindly': 1, 'big': 1, 'smooth': 1, 'white': 1, 'other': 1, 'beautiful': 1}), 'Richard': Counter({'little': 4, 'exclusive': 2, 'old': 2, 'first': 1, 'next': 1, 'fourth': 1, 'young': 1, 'sorry': 1, 'true': 1, 'unending': 1, 'unmercenary': 1}), 'Eureka': Counter({'old': 1, 'purest': 1}), 'Rambler': Counter({'ready': 1}), 'Pshaw': Counter({'social': 1}), 'Aunt Ellen': Counter({'gentle': 1, 'sentimental': 1, 'sighing': 1, 'much': 1, 'next': 1, 'old': 1, 'grey': 1, 'haired': 1}), 'Miss Lantry': Counter(), 'Anthony Rockwall’s': Counter(), 'Kelly': Counter({'next': 1, 'red': 1, 'blue': 1, 'more': 1, 'own': 1}), 'William A. Brady': Counter({'glad': 1, 'little': 1, 'outdoor': 1}), 'William': Counter(), 'Greeley': Counter(), 'Della': Counter({'little': 1}), 'James Dillingham Young': Counter({'flat': 2}), 'Jim': Counter({'flat': 1, 'fine': 1, 'rare': 1, 'little': 1, 'worthy': 1, 'anxious': 1, 'second': 1, 'late': 1, 'immovable': 1, 'happy': 1, 'hardest': 1, 'mental': 1, 'able': 1, 'dim': 1, 'beautiful': 1, 'dandy': 1}), 'Solomon': Counter(), 'Mme': Counter(), 'Sofronie': Counter({'large': 1, 'white': 1, 'chilly': 1}), 'Hair Goods': Counter(), 'Jim’s': Counter(), 'Dell': Counter(), 'Morpheus': Counter({'incompetent': 1}), 'Gabriel': Counter(), 'Hoffman': Counter({'swell': 1}), 'Dulce': Counter({'swell': 1}), 'Sadie': Counter({'artificial': 1, 'pink': 1}), 'Kitchener': Counter({'good': 2, 'wrinkly': 1, 'straight': 1, 'slender': 1, 'tall': 1, 'sorrowful': 1, 'handsome': 1, 'melancholy': 1, 'wonderful': 1, 'gilt': 1, 'only': 1, 'rude': 1, 'awful': 1, 'lonelier': 1, 'usual': 1, 'other': 1, 'prosperous': 1}), 'William Muldoon': Counter({'wrinkly': 1, 'awful': 1, 'good': 1}), 'Benvenuto Cellini': Counter({'wrinkly': 1, 'severe': 1, 'awful': 1, 'good': 1}), 'Wiggins': Counter(), 'Sammy': Counter(), 'Henry VIII': Counter({'inexcusable': 1}), 'Madison': Counter({'nervous': 1}), 'PENITENT': Counter(), 'Giuseppi': Counter({'young': 1, 'haggard': 1, 'feverish': 1, 'top': 1}), 'Bobby': Counter({'curious': 1}), \"O'Brine\": Counter({'dangerous': 1, 'small': 1}), 'Danny': Counter(), \"Policeman O'Brine\": Counter({'widespread': 1, 'amicable': 1, 'real': 1}), 'Johnny': Counter({'next': 2, 'labour': 1, 'solemn': 1, 'weighty': 1, 'editorial': 1, 'secluded': 1, 'such': 1, 'scholastic': 1, 'private': 1}), 'Gladys': Counter({'practicable': 1, 'labour': 1, 'solemn': 1, 'weighty': 1, 'editorial': 1, 'silken': 1}), 'Brown': Counter({'flat': 1, 'green': 1, 'spiteful': 1}), 'Matamoras': Counter({'second': 1, 'speckled': 1}), 'Madonna': Counter({'more': 2, 'high': 1, 'peaked': 1, 'parley': 1, 'soft': 1, 'blue': 1, 'black': 1, 'large': 1, 'full': 1, 'latin': 1, 'melancholy': 1}), 'Bill Adamson': Counter({'few': 1}), 'Lieutenant Sandridge': Counter({'few': 1}), 'Sandridge': Counter({'little': 2, 'beautiful': 1, 'ordinary': 1, 'agape': 1, 'human': 1, 'english': 1, 'peripatetic': 1, 'crippled': 1, 'lonely': 1, 'big': 1, 'steep': 1, 'own': 1, 'tortuous': 1}), 'strawberry complexion': Counter({'beautiful': 1, 'ordinary': 1}), 'quien': Counter({'upturned': 1}), 'Fink': Counter({'many': 1}), 'Crossing': Counter({'half': 1, 'mexican': 1}), 'Pizarro': Counter({'old': 2, 'mescal': 1}), 'Wolf Crossing': Counter({'winding': 1, 'fantastic': 1, 'bewildering': 1, 'good': 1, 'speckled': 1, 'certain': 1, 'close': 1}), 'Lulu': Counter({'conventional': 1, 'yearly': 1}), 'Cisco Kid': Counter(), 'Luisa': Counter({'small': 1, 'old': 1, 'swift': 1}), 'Gregorio': Counter({'ill': 1}), 'Cap': Counter(), 'Kid': Counter({'many': 1, 'interesting': 1, 'mad': 1, 'lane’ll': 1, 'open': 1, 'certain': 1}), 'muy caballero': Counter({'muy': 1}), 'Hasten': Counter({'own': 1}), 'bush': Counter(), 'Señor Sandridge': Counter({'old': 1}), 'Old Luisa': Counter({'ill': 1}), 'brown mantilla': Counter({'red': 1, 'blue': 1, 'brown': 1}), 'mantilla': Counter({'other': 1, 'faint': 1}), 'Perez': Counter(), 'Willard Geddie': Counter({'yearly': 1}), 'Goodwin': Counter({'coveted': 1, 'solitary': 1}), 'Capricorn': Counter(), 'Coralio': Counter({'insignificant': 2, 'second': 1, 'beautiful': 1, 'white': 1, 'opposite': 1}), 'Gregg': Counter({'yellow': 1}), 'Geddie': Counter({'little': 2, 'first': 1, 'luxurious': 1, 'good': 1, 'black': 1, 'favourite': 1, 'sure': 1, 'excellent': 1, 'upper': 1, 'ready': 1, 'low': 1, 'next': 1, 'clear': 1, 'familiar': 1, 'stubborn': 1, 'happier': 1, 'finest': 1, 'saddest': 1, 'unopened': 1, 'more': 1}), 'Valhalla': Counter({'same': 1, 'half': 1, 'little': 1, 'native': 1, 'blue': 1, 'red': 1, 'third': 1}), 'Languidly': Counter({'interested': 1, 'nearer': 1, 'florid': 1}), 'Midas': Counter({'good': 1, 'black': 1}), 'Tolliver': Counter({'american': 2, 'real': 1, 'bigger': 1, 'next': 1, 'south': 1}), 'Cumberland Payne': Counter(), 'Miss Ida Payne': Counter(), 'Ida': Counter({'happy': 1, 'double': 1, 'close': 1, 'same': 1, 'best': 1}), 'Paula Brannigan': Counter(), 'Paula': Counter({'sure': 1, 'happy': 1, 'excellent': 1, 'upper': 1, 'ready': 1, 'happier': 1}), 'Bernard Brannigan': Counter({'great': 1}), 'Ida Payne': Counter({'other': 1}), 'Ida’s': Counter({'imperfect': 1, 'certain': 1, 'comprehensive': 1, 'sure': 1}), 'Simon': Counter({'sonorous': 1, 'earliest': 1, 'more': 1}), 'Simon Cruz': Counter({'half': 1}), 'Simon’s': Counter({'third': 1}), 'McMullen': Counter({'old': 1, 'dangerous': 1}), 'Madison Lane': Counter({'other': 1, 'young': 1, 'own': 1}), 'Johnny McRoy': Counter({'liveliest': 1}), 'Dan McMullen': Counter({'many': 1}), 'Carson': Counter({'next': 1, 'oiled': 1, 'great': 1, 'further': 1, 'first': 1, 'innocent': 1, 'matrimonial': 1}), 'McRoy': Counter(), 'Mexican Frank': Counter(), 'Mex': Counter({'other': 2, 'usual': 1, 'mild': 1}), 'Mad Lane’s': Counter(), 'Allen': Counter({'old': 1}), 'Jim Belcher': Counter({'other': 1}), 'Lane': Counter({'open': 1, 'old': 1, 'afraid': 1, 'fellow': 1}), 'Santa Claus': Counter({'magnificent': 1}), 'Billy Sampson': Counter({'aged': 1}), 'Gabriel Radd': Counter({'next': 1}), 'Greaser': Counter({'last': 1}), 'Santy Claus': Counter({'white': 1, 'regular': 1}), 'Bill Driscoll': Counter({'sorry': 1}), 'Bill': Counter({'little': 7, 'old': 3, 'red': 2, 'pesky': 2, 'good': 2, 'temporary': 1, 'mental': 1, 'joint': 1, 'more': 1, 'fraudulent': 1, 'nice': 1, 'extra': 1, 'awful': 1, 'other': 1, 'sharp': 1, 'big': 1, 'hot': 1, 'heavy': 1, 'niggerhead': 1, 'left': 1, 'favourite': 1, 'biblical': 1, 'easy': 1, 'about': 1, 'particular': 1, 'ineffable': 1, 'rose': 1, 'pink': 1, 'chronic': 1, 'plump': 1, 'weak': 1, 'japanese': 1, 'better': 1, 'original': 1, 'strong': 1, 'enough': 1, 'dark': 1, 'fat': 1}), 'Ebenezer Dorset': Counter({'only': 1, 'prominent': 1, 'upset': 1}), 'Ebenezer': Counter({'front': 1}), 'Buffalo Bill’s': Counter({'magic': 1, 'lantern': 1}), 'Geronimo': Counter(), 'Jimmy Talbot’s': Counter(), 'Hank': Counter({'red': 1}), 'Ed Walker': Counter(), 'Amos Murray': Counter(), 'I. “': Counter({'much': 1, 'favourite': 1, 'biblical': 1, 'easy': 1}), 'Bill’s': Counter({'awake': 1, 'fancied': 1, 'young': 1, 'stealthy': 1}), 'Sam': Counter({'awful': 1, 'much': 1, 'favourite': 1, 'biblical': 1, 'easy': 1}), 'I. “Oh': Counter(), 'Aunt Jane': Counter(), 'David': Counter({'uncertain': 3, 'high': 3, 'great': 2, 'old': 2, 'young': 2, 'best': 2, 'little': 2, 'more': 2, 'such': 1, 'small': 1, 'familiar': 1, 'powerful': 1, 'harmonious': 1, 'solid': 1, 'delicate': 1, 'mild': 1, 'pathetic': 1, 'huge': 1, 'contemptuous': 1, 'erect': 1, 'weary': 1, 'wooden': 1, 'commensurate': 1, 'scant': 1, 'keen': 1, 'heavy': 1, 'opaque': 1, 'respectful': 1, 'lazy': 1, 'ecstatic': 1, 'poor': 1, 'royal': 1, 'wild': 1, 'unrelenting': 1, 'shrewd': 1, 'prosperous': 1, 'long': 1, 'larger': 1, 'smaller': 1, 'sorry': 1, 'much': 1, 'happier': 1}), 'Goliath': Counter({'such': 1}), 'Old Hank': Counter(), 'I. “That’s': Counter(), 'Dorset': Counter({'old': 3, 'peremptory': 1, 'thorough': 1, 'liberal': 1, 'strong': 1, 'enough': 1}), 'Red Chief': Counter(), 'Black Scout': Counter({'hoss': 1}), 'Sue': Counter({'dear': 4, 'next': 2, 'squatty': 1, 'busy': 1, 'shaggy': 1, 'gray': 1, 'worth': 1, 'japanese': 1, 'asleep': 1, 'elegant': 1, 'low': 1, 'several': 1, 'such': 1, 'magnificent': 1, 'loose': 1, 'poor': 1, 'tired': 1, 'ill': 1, 'weak': 1, 'morbid': 1, 'full': 1, 'strange': 1, 'other': 1, 'dull': 1, 'open': 1, 'green': 1, 'same': 1, 'worn': 1, 'thin': 1, 'blue': 1, 'useless': 1, 'woolen': 1}), 'Johnsy': Counter({'next': 2, 'last': 2, 'squatty': 1, 'small': 1, 'dutch': 1, 'blank': 1, 'more': 1, 'other': 1, 'silly': 1, 'white': 1, 'fallen': 1, 'poor': 1, 'dull': 1, 'open': 1, 'green': 1, 'long': 1, 'bad': 1, 'blue': 1, 'useless': 1, 'woolen': 1}), 'Joanna': Counter({'familiar': 1}), 'Pneumonia': Counter({'chivalric': 1, 'old': 1}), 'Sudie': Counter({'sick': 1, 'greedy': 1, 'bad': 1}), 'Michael Angelo’s': Counter(), 'Vass': Counter(), 'Ach': Counter({'poor': 1}), 'Behrman': Counter(), 'Miss Yohnsy': Counter({'sick': 1}), 'Wearily Sue': Counter(), 'Davy Crockett': Counter({'next': 1}), 'Benedict Arnold': Counter({'other': 1}), 'Kidd': Counter({'other': 1, 'more': 1}), 'piebald gang': Counter({'ornery': 1, 'low': 1, 'hot': 1, 'irish': 1, 'regular': 1}), 'Ward McAllister': Counter({'ornery': 1, 'low': 1, 'hot': 1, 'irish': 1, 'regular': 1}), 'David Mignot': Counter(), 'M. Papineau': Counter({'notary': 1, 'little': 1, 'drunk': 1, 'wise': 1, 'old': 1, 'first': 1, 'silver': 1, 'mingled': 1}), 'Vernoy': Counter(), 'Monsiegneur': Counter({'open': 2}), 'Marquis': Counter(), 'marquis': Counter({'great': 2, 'cold': 1, 'plump': 1, 'white': 1, 'eloquent': 1, 'carven': 1}), 'Burgundy': Counter({'certain': 1}), 'Monsieur Mignot': Counter({'foul': 1, 'wretched': 1, 'many': 1}), 'François': Counter(), 'Nature': Counter({'great': 1, 'balsamic': 1, 'black': 1, 'hospitable': 1, 'willing': 1}), 'Adieu': Counter(), 'Desrolles': Counter({'enough': 1, 'safe': 1, 'royal': 1, 'square': 1, 'nearer': 1, 'desperate': 1, 'dark': 1}), 'Ribouet': Counter(), 'Monsieur': Counter(), 'Tetreau': Counter({'south': 1, 'ready': 1}), 'the Rue Christopher': Counter({'royal': 1, 'square': 1, 'nearer': 1}), 'Mornings': Counter({'little': 1}), \"Père Gruneau's\": Counter({'double': 2, 'aye': 1}), 'Daily': Counter({'safe': 1}), 'Dreux': Counter({'next': 1, 'precious': 1}), 'Georges Bril': Counter(), \"M. Papineau's\": Counter(), 'Monsieur Bril': Counter({'last': 1, 'disposed': 1}), 'Papineau': Counter({'old': 1, 'well': 1}), 'Zeigler': Counter({'bad': 1})}\n"
     ]
    }
   ],
   "source": [
    "from collections import defaultdict\n",
    "\n",
    "char_adj = defaultdict(list)\n",
    "\n",
    "for ent in doc.ents:\n",
    "    if ent.label_ == \"PERSON\":\n",
    "        sent = ent.sent\n",
    "        adjs = [token.text.lower() for token in sent if token.pos_ == \"ADJ\"]\n",
    "        char_adj[ent.text].extend(adjs)\n",
    "\n",
    "char_adj_counts = {char: Counter(adjs) for char, adjs in char_adj.items()}\n",
    "print(char_adj_counts)\n"
   ]
  },
  {
   "cell_type": "markdown",
   "metadata": {},
   "source": [
    "## Step 3: Combining stereotype keywords"
   ]
  },
  {
   "cell_type": "code",
   "execution_count": 4,
   "metadata": {},
   "outputs": [
    {
     "name": "stdout",
     "output_type": "stream",
     "text": [
      "Characters with stereotype-related adjectives:\n",
      "Andy: {'honest': 1}\n",
      "Jack: {'kind': 1}\n",
      "Ranse: {'kind': 1}\n",
      "David: {'lazy': 1, 'poor': 1}\n",
      "Sue: {'poor': 1}\n",
      "Johnsy: {'poor': 1}\n",
      "Sudie: {'greedy': 1}\n",
      "Ach: {'poor': 1}\n"
     ]
    }
   ],
   "source": [
    "stereotype_keywords = {\"greedy\", \"lazy\", \"honest\", \"poor\", \"immigrant\", \"rich\", \"kind\", \"cunning\", \"naive\", \"hardworking\"}\n",
    "\n",
    "char_stereotype_counts = {}\n",
    "\n",
    "for char, adj_counts in char_adj_counts.items():\n",
    "    filtered = {word: count for word, count in adj_counts.items() if word in stereotype_keywords}\n",
    "    if filtered:\n",
    "        char_stereotype_counts[char] = filtered\n",
    "\n",
    "print(\"Characters with stereotype-related adjectives:\")\n",
    "for char, counts in char_stereotype_counts.items():\n",
    "    print(f\"{char}: {counts}\")\n"
   ]
  },
  {
   "cell_type": "markdown",
   "metadata": {},
   "source": [
    "## Step 4: Visualizing it - Heatmap"
   ]
  },
  {
   "cell_type": "code",
   "execution_count": 5,
   "metadata": {},
   "outputs": [
    {
     "data": {
      "image/png": "[encoded data removed]",
      "text/plain": [
       "<Figure size 1200x600 with 2 Axes>"
      ]
     },
     "metadata": {},
     "output_type": "display_data"
    }
   ],
   "source": [
    "import pandas as pd\n",
    "import seaborn as sns\n",
    "import matplotlib.pyplot as plt\n",
    "\n",
    "df = pd.DataFrame(char_stereotype_counts).fillna(0).astype(int).T\n",
    "\n",
    "plt.figure(figsize=(12, max(6, len(df) * 0.5)))\n",
    "sns.heatmap(df, annot=True, fmt=\"d\", cmap=\"YlGnBu\", cbar_kws={'label': 'Frequency'})\n",
    "plt.title(\"Character–Stereotype Adjective Frequencies\", fontsize=16)\n",
    "plt.xlabel(\"Stereotype Adjectives\", fontsize=12)\n",
    "plt.ylabel(\"Characters\", fontsize=12)\n",
    "plt.xticks(rotation=45, ha=\"right\")\n",
    "plt.yticks(rotation=0)\n",
    "plt.tight_layout()\n",
    "plt.show()\n"
   ]
  },
  {
   "cell_type": "markdown",
   "metadata": {},
   "source": [
    "# Method 2: Word2Vec"
   ]
  },
  {
   "cell_type": "markdown",
   "metadata": {},
   "source": [
    "## Step 1: Load and preprocess text"
   ]
  },
  {
   "cell_type": "code",
   "execution_count": 6,
   "metadata": {},
   "outputs": [],
   "source": [
    "import os\n",
    "import spacy\n",
    "\n",
    "stereotype_keywords = {\"greedy\", \"lazy\", \"honest\", \"poor\", \"immigrant\", \"rich\", \"kind\", \"cunning\", \"naive\", \"hardworking\"}\n",
    "folder_path = \"./ohenry_texts\"\n",
    "texts = []\n",
    "for filename in os.listdir(folder_path):\n",
    "    if filename.endswith(\".txt\"):\n",
    "        with open(os.path.join(folder_path, filename), encoding=\"utf-8\") as f:\n",
    "            texts.append(f.read())\n",
    "all_text = \" \".join(texts)\n",
    "\n",
    "nlp = spacy.load(\"en_core_web_sm\")\n",
    "doc = nlp(all_text)\n",
    "sentences = [\n",
    "    [token.text.lower() for token in sent if not token.is_punct and not token.is_space]\n",
    "    for sent in doc.sents\n",
    "]"
   ]
  },
  {
   "cell_type": "markdown",
   "metadata": {},
   "source": [
    "## Step 2: Train Word2Vec and collect similar words"
   ]
  },
  {
   "cell_type": "code",
   "execution_count": 7,
   "metadata": {},
   "outputs": [
    {
     "name": "stdout",
     "output_type": "stream",
     "text": [
      "Keyword: greedy\n",
      "  Similar word: ago, similarity: 0.9127\n",
      "  Similar word: james, similarity: 0.9114\n",
      "  Similar word: stuff, similarity: 0.9112\n",
      "  Similar word: professional, similarity: 0.9109\n",
      "  Similar word: rolling, similarity: 0.9107\n",
      "\n",
      "Keyword: cunning\n",
      "  Similar word: conspirators, similarity: 0.7900\n",
      "  Similar word: scarifying, similarity: 0.7778\n",
      "  Similar word: sing, similarity: 0.7635\n",
      "  Similar word: whiskers, similarity: 0.7630\n",
      "  Similar word: depreca-, similarity: 0.7615\n",
      "\n",
      "Keyword: poor\n",
      "  Similar word: toward, similarity: 0.9971\n",
      "  Similar word: between, similarity: 0.9970\n",
      "  Similar word: which, similarity: 0.9970\n",
      "  Similar word: dollars, similarity: 0.9970\n",
      "  Similar word: him, similarity: 0.9970\n",
      "\n",
      "Keyword: rich\n",
      "  Similar word: smoke, similarity: 0.9920\n",
      "  Similar word: them, similarity: 0.9917\n",
      "  Similar word: air, similarity: 0.9917\n",
      "  Similar word: much, similarity: 0.9916\n",
      "  Similar word: saw, similarity: 0.9916\n",
      "\n",
      "Keyword: honest\n",
      "  Similar word: hardly, similarity: 0.9709\n",
      "  Similar word: brass, similarity: 0.9703\n",
      "  Similar word: water, similarity: 0.9698\n",
      "  Similar word: widdup, similarity: 0.9697\n",
      "  Similar word: voice, similarity: 0.9697\n",
      "\n",
      "Keyword: kind\n",
      "  Similar word: in, similarity: 0.9995\n",
      "  Similar word: the, similarity: 0.9995\n",
      "  Similar word: a, similarity: 0.9995\n",
      "  Similar word: its, similarity: 0.9994\n",
      "  Similar word: who, similarity: 0.9994\n",
      "\n",
      "Keyword: lazy\n",
      "  Similar word: wife, similarity: 0.9781\n",
      "  Similar word: shone, similarity: 0.9779\n",
      "  Similar word: sometimes, similarity: 0.9779\n",
      "  Similar word: ’em, similarity: 0.9779\n",
      "  Similar word: waiting, similarity: 0.9777\n",
      "\n"
     ]
    }
   ],
   "source": [
    "from gensim.models import Word2Vec\n",
    "from collections import defaultdict\n",
    "\n",
    "w2v_model = Word2Vec(sentences, vector_size=100, window=5, min_count=1, workers=4)\n",
    "valid_keywords = [w for w in stereotype_keywords if w in w2v_model.wv]\n",
    "\n",
    "similar_words = defaultdict(list)\n",
    "for word in valid_keywords:\n",
    "    sims = w2v_model.wv.most_similar(word, topn=5)\n",
    "    similar_words[word] = sims  \n",
    "\n",
    "for keyword, sims in similar_words.items():\n",
    "    print(f\"Keyword: {keyword}\")\n",
    "    for sim_word, score in sims:\n",
    "        print(f\"  Similar word: {sim_word}, similarity: {score:.4f}\")\n",
    "    print()\n"
   ]
  },
  {
   "cell_type": "markdown",
   "metadata": {},
   "source": [
    "## Step 3: Visualizing it - Semantic Space plot"
   ]
  },
  {
   "cell_type": "code",
   "execution_count": 8,
   "metadata": {},
   "outputs": [
    {
     "data": {
      "application/vnd.plotly.v1+json": {
       "config": {
        "plotlyServerURL": "https://plot.ly"
       },
       "data": [
        {
         "hovertemplate": "x=%{x}<br>y=%{y}<br>word=%{text}<extra></extra>",
         "legendgroup": "",
         "marker": {
          "color": "#636efa",
          "symbol": "circle"
         },
         "mode": "markers+text",
         "name": "",
         "orientation": "v",
         "showlegend": false,
         "text": [
          "them",
          "waiting",
          "much",
          "widdup",
          "him",
          "shone",
          "between",
          "greedy",
          "cunning",
          "water",
          "depreca-",
          "rich",
          "a",
          "voice",
          "toward",
          "ago",
          "lazy",
          "brass",
          "sing",
          "who",
          "sometimes",
          "wife",
          "in",
          "poor",
          "honest",
          "’em",
          "scarifying",
          "rolling",
          "conspirators",
          "smoke",
          "hardly",
          "whiskers",
          "air",
          "james",
          "its",
          "saw",
          "dollars",
          "stuff",
          "the",
          "kind",
          "which",
          "professional"
         ],
         "type": "scatter",
         "x": [
          -1.8273451705286705,
          0.3833210266400465,
          -0.5523176473090395,
          1.0773381909152429,
          -3.7045304445887557,
          1.4730640913598665,
          0.005262007799739583,
          1.7847499555200639,
          1.8453981215274153,
          0.37126332761274505,
          1.7115833875086974,
          1.4414490145461993,
          -6.933744832449901,
          0.04191881795461183,
          0.2145830670744535,
          1.1170056910884878,
          1.643165737990321,
          1.225360686925507,
          1.6808363835566411,
          -2.848630105601125,
          1.118284306236412,
          0.9249256503512528,
          -6.0622358286351945,
          1.2261871186670878,
          1.6794490759861223,
          1.178283743443994,
          1.784084368228232,
          1.3415523540336656,
          1.7522036024601002,
          0.9834422705620188,
          1.3134346279022633,
          1.7261527268998038,
          -0.46239812787921675,
          1.4418622384740978,
          -3.964126550484629,
          0.0464304981145741,
          -0.8887301814106999,
          1.5206719011393646,
          -7.3507652176464555,
          0.2238571192560775,
          -1.2397863194775145,
          1.5574893162360983
         ],
         "xaxis": "x",
         "y": [
          0.018448681516896857,
          -0.008801356126697909,
          0.010269704817807077,
          -0.014511903201847563,
          0.016065823969132354,
          0.003176227530616832,
          0.005681590683441143,
          -0.00836839237567516,
          0.0009600352998042305,
          -0.012714123302830983,
          0.0005134037624273988,
          0.010275793043977903,
          -0.0054920868877846385,
          -0.0023928715267165683,
          -0.012869417022503467,
          -0.001979466516603215,
          -0.016601440465392824,
          0.004299825226823736,
          -0.007909868922771322,
          0.025835719560122112,
          -0.00008679841673138134,
          -0.008911716926408382,
          0.022577946715635372,
          -0.007193154218726535,
          -0.0059171886321940145,
          -0.012981259392443352,
          0.0033008899271262495,
          -0.017830474252960228,
          0.006790105020330052,
          0.005174247098871775,
          -0.008828307800467266,
          0.0002562089571821483,
          0.01634613571047751,
          -0.007727089629556206,
          0.02013069583172556,
          0.027654264666247475,
          0.020517051770439627,
          -0.0010631193301591018,
          -0.06711459759279981,
          0.0024773165804285696,
          0.002640104941964412,
          0.005902859909791825
         ],
         "yaxis": "y"
        }
       ],
       "layout": {
        "legend": {
         "tracegroupgap": 0
        },
        "template": {
         "data": {
          "bar": [
           {
            "error_x": {
             "color": "#2a3f5f"
            },
            "error_y": {
             "color": "#2a3f5f"
            },
            "marker": {
             "line": {
              "color": "#E5ECF6",
              "width": 0.5
             },
             "pattern": {
              "fillmode": "overlay",
              "size": 10,
              "solidity": 0.2
             }
            },
            "type": "bar"
           }
          ],
          "barpolar": [
           {
            "marker": {
             "line": {
              "color": "#E5ECF6",
              "width": 0.5
             },
             "pattern": {
              "fillmode": "overlay",
              "size": 10,
              "solidity": 0.2
             }
            },
            "type": "barpolar"
           }
          ],
          "carpet": [
           {
            "aaxis": {
             "endlinecolor": "#2a3f5f",
             "gridcolor": "white",
             "linecolor": "white",
             "minorgridcolor": "white",
             "startlinecolor": "#2a3f5f"
            },
            "baxis": {
             "endlinecolor": "#2a3f5f",
             "gridcolor": "white",
             "linecolor": "white",
             "minorgridcolor": "white",
             "startlinecolor": "#2a3f5f"
            },
            "type": "carpet"
           }
          ],
          "choropleth": [
           {
            "colorbar": {
             "outlinewidth": 0,
             "ticks": ""
            },
            "type": "choropleth"
           }
          ],
          "contour": [
           {
            "colorbar": {
             "outlinewidth": 0,
             "ticks": ""
            },
            "colorscale": [
             [
              0,
              "#0d0887"
             ],
             [
              0.1111111111111111,
              "#46039f"
             ],
             [
              0.2222222222222222,
              "#7201a8"
             ],
             [
              0.3333333333333333,
              "#9c179e"
             ],
             [
              0.4444444444444444,
              "#bd3786"
             ],
             [
              0.5555555555555556,
              "#d8576b"
             ],
             [
              0.6666666666666666,
              "#ed7953"
             ],
             [
              0.7777777777777778,
              "#fb9f3a"
             ],
             [
              0.8888888888888888,
              "#fdca26"
             ],
             [
              1,
              "#f0f921"
             ]
            ],
            "type": "contour"
           }
          ],
          "contourcarpet": [
           {
            "colorbar": {
             "outlinewidth": 0,
             "ticks": ""
            },
            "type": "contourcarpet"
           }
          ],
          "heatmap": [
           {
            "colorbar": {
             "outlinewidth": 0,
             "ticks": ""
            },
            "colorscale": [
             [
              0,
              "#0d0887"
             ],
             [
              0.1111111111111111,
              "#46039f"
             ],
             [
              0.2222222222222222,
              "#7201a8"
             ],
             [
              0.3333333333333333,
              "#9c179e"
             ],
             [
              0.4444444444444444,
              "#bd3786"
             ],
             [
              0.5555555555555556,
              "#d8576b"
             ],
             [
              0.6666666666666666,
              "#ed7953"
             ],
             [
              0.7777777777777778,
              "#fb9f3a"
             ],
             [
              0.8888888888888888,
              "#fdca26"
             ],
             [
              1,
              "#f0f921"
             ]
            ],
            "type": "heatmap"
           }
          ],
          "heatmapgl": [
           {
            "colorbar": {
             "outlinewidth": 0,
             "ticks": ""
            },
            "colorscale": [
             [
              0,
              "#0d0887"
             ],
             [
              0.1111111111111111,
              "#46039f"
             ],
             [
              0.2222222222222222,
              "#7201a8"
             ],
             [
              0.3333333333333333,
              "#9c179e"
             ],
             [
              0.4444444444444444,
              "#bd3786"
             ],
             [
              0.5555555555555556,
              "#d8576b"
             ],
             [
              0.6666666666666666,
              "#ed7953"
             ],
             [
              0.7777777777777778,
              "#fb9f3a"
             ],
             [
              0.8888888888888888,
              "#fdca26"
             ],
             [
              1,
              "#f0f921"
             ]
            ],
            "type": "heatmapgl"
           }
          ],
          "histogram": [
           {
            "marker": {
             "pattern": {
              "fillmode": "overlay",
              "size": 10,
              "solidity": 0.2
             }
            },
            "type": "histogram"
           }
          ],
          "histogram2d": [
           {
            "colorbar": {
             "outlinewidth": 0,
             "ticks": ""
            },
            "colorscale": [
             [
              0,
              "#0d0887"
             ],
             [
              0.1111111111111111,
              "#46039f"
             ],
             [
              0.2222222222222222,
              "#7201a8"
             ],
             [
              0.3333333333333333,
              "#9c179e"
             ],
             [
              0.4444444444444444,
              "#bd3786"
             ],
             [
              0.5555555555555556,
              "#d8576b"
             ],
             [
              0.6666666666666666,
              "#ed7953"
             ],
             [
              0.7777777777777778,
              "#fb9f3a"
             ],
             [
              0.8888888888888888,
              "#fdca26"
             ],
             [
              1,
              "#f0f921"
             ]
            ],
            "type": "histogram2d"
           }
          ],
          "histogram2dcontour": [
           {
            "colorbar": {
             "outlinewidth": 0,
             "ticks": ""
            },
            "colorscale": [
             [
              0,
              "#0d0887"
             ],
             [
              0.1111111111111111,
              "#46039f"
             ],
             [
              0.2222222222222222,
              "#7201a8"
             ],
             [
              0.3333333333333333,
              "#9c179e"
             ],
             [
              0.4444444444444444,
              "#bd3786"
             ],
             [
              0.5555555555555556,
              "#d8576b"
             ],
             [
              0.6666666666666666,
              "#ed7953"
             ],
             [
              0.7777777777777778,
              "#fb9f3a"
             ],
             [
              0.8888888888888888,
              "#fdca26"
             ],
             [
              1,
              "#f0f921"
             ]
            ],
            "type": "histogram2dcontour"
           }
          ],
          "mesh3d": [
           {
            "colorbar": {
             "outlinewidth": 0,
             "ticks": ""
            },
            "type": "mesh3d"
           }
          ],
          "parcoords": [
           {
            "line": {
             "colorbar": {
              "outlinewidth": 0,
              "ticks": ""
             }
            },
            "type": "parcoords"
           }
          ],
          "pie": [
           {
            "automargin": true,
            "type": "pie"
           }
          ],
          "scatter": [
           {
            "fillpattern": {
             "fillmode": "overlay",
             "size": 10,
             "solidity": 0.2
            },
            "type": "scatter"
           }
          ],
          "scatter3d": [
           {
            "line": {
             "colorbar": {
              "outlinewidth": 0,
              "ticks": ""
             }
            },
            "marker": {
             "colorbar": {
              "outlinewidth": 0,
              "ticks": ""
             }
            },
            "type": "scatter3d"
           }
          ],
          "scattercarpet": [
           {
            "marker": {
             "colorbar": {
              "outlinewidth": 0,
              "ticks": ""
             }
            },
            "type": "scattercarpet"
           }
          ],
          "scattergeo": [
           {
            "marker": {
             "colorbar": {
              "outlinewidth": 0,
              "ticks": ""
             }
            },
            "type": "scattergeo"
           }
          ],
          "scattergl": [
           {
            "marker": {
             "colorbar": {
              "outlinewidth": 0,
              "ticks": ""
             }
            },
            "type": "scattergl"
           }
          ],
          "scattermapbox": [
           {
            "marker": {
             "colorbar": {
              "outlinewidth": 0,
              "ticks": ""
             }
            },
            "type": "scattermapbox"
           }
          ],
          "scatterpolar": [
           {
            "marker": {
             "colorbar": {
              "outlinewidth": 0,
              "ticks": ""
             }
            },
            "type": "scatterpolar"
           }
          ],
          "scatterpolargl": [
           {
            "marker": {
             "colorbar": {
              "outlinewidth": 0,
              "ticks": ""
             }
            },
            "type": "scatterpolargl"
           }
          ],
          "scatterternary": [
           {
            "marker": {
             "colorbar": {
              "outlinewidth": 0,
              "ticks": ""
             }
            },
            "type": "scatterternary"
           }
          ],
          "surface": [
           {
            "colorbar": {
             "outlinewidth": 0,
             "ticks": ""
            },
            "colorscale": [
             [
              0,
              "#0d0887"
             ],
             [
              0.1111111111111111,
              "#46039f"
             ],
             [
              0.2222222222222222,
              "#7201a8"
             ],
             [
              0.3333333333333333,
              "#9c179e"
             ],
             [
              0.4444444444444444,
              "#bd3786"
             ],
             [
              0.5555555555555556,
              "#d8576b"
             ],
             [
              0.6666666666666666,
              "#ed7953"
             ],
             [
              0.7777777777777778,
              "#fb9f3a"
             ],
             [
              0.8888888888888888,
              "#fdca26"
             ],
             [
              1,
              "#f0f921"
             ]
            ],
            "type": "surface"
           }
          ],
          "table": [
           {
            "cells": {
             "fill": {
              "color": "#EBF0F8"
             },
             "line": {
              "color": "white"
             }
            },
            "header": {
             "fill": {
              "color": "#C8D4E3"
             },
             "line": {
              "color": "white"
             }
            },
            "type": "table"
           }
          ]
         },
         "layout": {
          "annotationdefaults": {
           "arrowcolor": "#2a3f5f",
           "arrowhead": 0,
           "arrowwidth": 1
          },
          "autotypenumbers": "strict",
          "coloraxis": {
           "colorbar": {
            "outlinewidth": 0,
            "ticks": ""
           }
          },
          "colorscale": {
           "diverging": [
            [
             0,
             "#8e0152"
            ],
            [
             0.1,
             "#c51b7d"
            ],
            [
             0.2,
             "#de77ae"
            ],
            [
             0.3,
             "#f1b6da"
            ],
            [
             0.4,
             "#fde0ef"
            ],
            [
             0.5,
             "#f7f7f7"
            ],
            [
             0.6,
             "#e6f5d0"
            ],
            [
             0.7,
             "#b8e186"
            ],
            [
             0.8,
             "#7fbc41"
            ],
            [
             0.9,
             "#4d9221"
            ],
            [
             1,
             "#276419"
            ]
           ],
           "sequential": [
            [
             0,
             "#0d0887"
            ],
            [
             0.1111111111111111,
             "#46039f"
            ],
            [
             0.2222222222222222,
             "#7201a8"
            ],
            [
             0.3333333333333333,
             "#9c179e"
            ],
            [
             0.4444444444444444,
             "#bd3786"
            ],
            [
             0.5555555555555556,
             "#d8576b"
            ],
            [
             0.6666666666666666,
             "#ed7953"
            ],
            [
             0.7777777777777778,
             "#fb9f3a"
            ],
            [
             0.8888888888888888,
             "#fdca26"
            ],
            [
             1,
             "#f0f921"
            ]
           ],
           "sequentialminus": [
            [
             0,
             "#0d0887"
            ],
            [
             0.1111111111111111,
             "#46039f"
            ],
            [
             0.2222222222222222,
             "#7201a8"
            ],
            [
             0.3333333333333333,
             "#9c179e"
            ],
            [
             0.4444444444444444,
             "#bd3786"
            ],
            [
             0.5555555555555556,
             "#d8576b"
            ],
            [
             0.6666666666666666,
             "#ed7953"
            ],
            [
             0.7777777777777778,
             "#fb9f3a"
            ],
            [
             0.8888888888888888,
             "#fdca26"
            ],
            [
             1,
             "#f0f921"
            ]
           ]
          },
          "colorway": [
           "#636efa",
           "#EF553B",
           "#00cc96",
           "#ab63fa",
           "#FFA15A",
           "#19d3f3",
           "#FF6692",
           "#B6E880",
           "#FF97FF",
           "#FECB52"
          ],
          "font": {
           "color": "#2a3f5f"
          },
          "geo": {
           "bgcolor": "white",
           "lakecolor": "white",
           "landcolor": "#E5ECF6",
           "showlakes": true,
           "showland": true,
           "subunitcolor": "white"
          },
          "hoverlabel": {
           "align": "left"
          },
          "hovermode": "closest",
          "mapbox": {
           "style": "light"
          },
          "paper_bgcolor": "white",
          "plot_bgcolor": "#E5ECF6",
          "polar": {
           "angularaxis": {
            "gridcolor": "white",
            "linecolor": "white",
            "ticks": ""
           },
           "bgcolor": "#E5ECF6",
           "radialaxis": {
            "gridcolor": "white",
            "linecolor": "white",
            "ticks": ""
           }
          },
          "scene": {
           "xaxis": {
            "backgroundcolor": "#E5ECF6",
            "gridcolor": "white",
            "gridwidth": 2,
            "linecolor": "white",
            "showbackground": true,
            "ticks": "",
            "zerolinecolor": "white"
           },
           "yaxis": {
            "backgroundcolor": "#E5ECF6",
            "gridcolor": "white",
            "gridwidth": 2,
            "linecolor": "white",
            "showbackground": true,
            "ticks": "",
            "zerolinecolor": "white"
           },
           "zaxis": {
            "backgroundcolor": "#E5ECF6",
            "gridcolor": "white",
            "gridwidth": 2,
            "linecolor": "white",
            "showbackground": true,
            "ticks": "",
            "zerolinecolor": "white"
           }
          },
          "shapedefaults": {
           "line": {
            "color": "#2a3f5f"
           }
          },
          "ternary": {
           "aaxis": {
            "gridcolor": "white",
            "linecolor": "white",
            "ticks": ""
           },
           "baxis": {
            "gridcolor": "white",
            "linecolor": "white",
            "ticks": ""
           },
           "bgcolor": "#E5ECF6",
           "caxis": {
            "gridcolor": "white",
            "linecolor": "white",
            "ticks": ""
           }
          },
          "title": {
           "x": 0.05
          },
          "xaxis": {
           "automargin": true,
           "gridcolor": "white",
           "linecolor": "white",
           "ticks": "",
           "title": {
            "standoff": 15
           },
           "zerolinecolor": "white",
           "zerolinewidth": 2
          },
          "yaxis": {
           "automargin": true,
           "gridcolor": "white",
           "linecolor": "white",
           "ticks": "",
           "title": {
            "standoff": 15
           },
           "zerolinecolor": "white",
           "zerolinewidth": 2
          }
         }
        },
        "title": {
         "text": "Word2Vec Semantic Space Interactive Plot"
        },
        "xaxis": {
         "anchor": "y",
         "domain": [
          0,
          1
         ],
         "title": {
          "text": "x"
         }
        },
        "yaxis": {
         "anchor": "x",
         "domain": [
          0,
          1
         ],
         "title": {
          "text": "y"
         }
        }
       }
      }
     },
     "metadata": {},
     "output_type": "display_data"
    }
   ],
   "source": [
    "from sklearn.decomposition import PCA\n",
    "import plotly.express as px\n",
    "import pandas as pd\n",
    "\n",
    "words_to_plot = set(valid_keywords)\n",
    "for sims in similar_words.values():\n",
    "    for w, _ in sims:\n",
    "        if w in w2v_model.wv:\n",
    "            words_to_plot.add(w)\n",
    "words_to_plot = list(words_to_plot)\n",
    "\n",
    "vectors = [w2v_model.wv[w] for w in words_to_plot]\n",
    "\n",
    "pca = PCA(n_components=2)\n",
    "result = pca.fit_transform(vectors)\n",
    "df = pd.DataFrame({\n",
    "    'word': words_to_plot,\n",
    "    'x': result[:, 0],\n",
    "    'y': result[:, 1]\n",
    "})\n",
    "fig = px.scatter(df, x='x', y='y', text='word', title='Word2Vec Semantic Space Interactive Plot')\n",
    "fig.update_traces(marker=dict(size=10),\n",
    "                  selector=dict(mode='markers'),\n",
    "                  hovertemplate='<b>%{text}</b><extra></extra>')\n",
    "fig.show()\n"
   ]
  },
  {
   "cell_type": "markdown",
   "metadata": {},
   "source": [
    "# Method 3: LDA Topic Modeling"
   ]
  },
  {
   "cell_type": "markdown",
   "metadata": {},
   "source": [
    "## Step 1: Train the LDA Model"
   ]
  },
  {
   "cell_type": "code",
   "execution_count": 9,
   "metadata": {},
   "outputs": [
    {
     "name": "stdout",
     "output_type": "stream",
     "text": [
      "Topic 0:\n",
      "0.020*\"say\" + 0.012*\"time\" + 0.007*\"little\" + 0.007*\"kid\" + 0.007*\"leave\" + 0.007*\"know\" + 0.006*\"poet\" + 0.006*\"think\" + 0.005*\"come\" + 0.005*\"shall\"\n",
      "\n",
      "Topic 1:\n",
      "0.010*\"man\" + 0.009*\"dollar\" + 0.009*\"hand\" + 0.006*\"eye\" + 0.006*\"little\" + 0.006*\"hour\" + 0.006*\"take\" + 0.006*\"open\" + 0.006*\"bill\" + 0.006*\"say\"\n",
      "\n",
      "Topic 2:\n",
      "0.008*\"look\" + 0.007*\"man\" + 0.005*\"kid\" + 0.005*\"window\" + 0.005*\"david\" + 0.005*\"eye\" + 0.004*\"step\" + 0.004*\"hear\" + 0.004*\"kill\" + 0.004*\"come\"\n",
      "\n",
      "Topic 3:\n",
      "0.012*\"go\" + 0.011*\"get\" + 0.009*\"night\" + 0.008*\"say\" + 0.007*\"day\" + 0.007*\"find\" + 0.006*\"old\" + 0.005*\"like\" + 0.004*\"look\" + 0.004*\"live\"\n",
      "\n",
      "Topic 4:\n",
      "0.029*\"say\" + 0.009*\"come\" + 0.008*\"look\" + 0.007*\"bill\" + 0.007*\"like\" + 0.006*\"want\" + 0.006*\"eye\" + 0.006*\"man\" + 0.006*\"ask\" + 0.006*\"mr.\"\n",
      "\n"
     ]
    }
   ],
   "source": [
    "import os\n",
    "import spacy\n",
    "from gensim import corpora\n",
    "from gensim.models import LdaModel\n",
    "\n",
    "folder_path = \"./ohenry_texts\"\n",
    "texts = []\n",
    "for filename in os.listdir(folder_path):\n",
    "    if filename.endswith(\".txt\"):\n",
    "        with open(os.path.join(folder_path, filename), encoding=\"utf-8\") as f:\n",
    "            texts.append(f.read())\n",
    "all_text = \" \".join(texts)\n",
    "\n",
    "nlp = spacy.load(\"en_core_web_sm\")\n",
    "doc = nlp(all_text)\n",
    "sentences = [\n",
    "    [token.lemma_.lower() for token in sent \n",
    "     if not token.is_punct and not token.is_space and not token.is_stop]\n",
    "    for sent in doc.sents\n",
    "]\n",
    "\n",
    "dictionary = corpora.Dictionary(sentences)\n",
    "corpus = [dictionary.doc2bow(text) for text in sentences]\n",
    "\n",
    "lda = LdaModel(corpus=corpus, id2word=dictionary, num_topics=5, random_state=42, passes=10)\n",
    "for i in range(5):\n",
    "    print(f\"Topic {i}:\")\n",
    "    print(lda.print_topic(i, topn=10))\n",
    "    print()\n"
   ]
  },
  {
   "cell_type": "markdown",
   "metadata": {},
   "source": [
    "## Step 2: Visualize the topics - pyLDAvis"
   ]
  },
  {
   "cell_type": "code",
   "execution_count": 10,
   "metadata": {},
   "outputs": [],
   "source": [
    "## I learned this method and editted the code on Chatgpt.\n",
    "import pyLDAvis.gensim_models as gensimvis\n",
    "import pyLDAvis\n",
    "\n",
    "vis_data = gensimvis.prepare(lda, corpus, dictionary)\n",
    "pyLDAvis.save_html(vis_data, 'lda_vis.html')"
   ]
  }
 ],
 "metadata": {
  "kernelspec": {
   "display_name": "Python 3",
   "language": "python",
   "name": "python3"
  },
  "language_info": {
   "codemirror_mode": {
    "name": "ipython",
    "version": 3
   },
   "file_extension": ".py",
   "mimetype": "text/x-python",
   "name": "python",
   "nbconvert_exporter": "python",
   "pygments_lexer": "ipython3",
   "version": "3.10.7"
  }
 },
 "nbformat": 4,
 "nbformat_minor": 2
}
